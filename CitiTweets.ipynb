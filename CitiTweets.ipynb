{
 "cells": [
  {
   "cell_type": "code",
   "execution_count": 6,
   "metadata": {},
   "outputs": [],
   "source": [
    "#similar word extraction on the basis of word "
   ]
  },
  {
   "cell_type": "code",
   "execution_count": 7,
   "metadata": {},
   "outputs": [],
   "source": [
    "#!pip install tweepy"
   ]
  },
  {
   "cell_type": "code",
   "execution_count": 10,
   "metadata": {},
   "outputs": [],
   "source": [
    "import os\n",
    "import tweepy as tw\n",
    "import pandas as pd\n",
    "import re, string\n",
    "from tqdm import tqdm\n",
    "from sklearn.decomposition import PCA "
   ]
  },
  {
   "cell_type": "code",
   "execution_count": 11,
   "metadata": {},
   "outputs": [],
   "source": [
    "consumer_key= 'mxtkW7a8EYHwBd3rMBmWrscda'\n",
    "consumer_secret= 'qMGuky46B5AJddQ8bO4DfrQnUHuaQ18kVa8k7eQE3zBhtr6Jb4'\n",
    "access_token= '3267248131-B27E5BJdErwnN1kDUxTSvDrToYVUnZkbfbkiwmp'\n",
    "access_token_secret= 'jpYfRJ0usnPVg8QurTQiiNzNLjimOobetHNCHT7q3btLc'"
   ]
  },
  {
   "cell_type": "code",
   "execution_count": 12,
   "metadata": {},
   "outputs": [],
   "source": [
    "auth = tw.OAuthHandler(consumer_key, consumer_secret)\n",
    "auth.set_access_token(access_token, access_token_secret)\n",
    "api = tw.API(auth, wait_on_rate_limit=True)"
   ]
  },
  {
   "cell_type": "code",
   "execution_count": 41,
   "metadata": {},
   "outputs": [],
   "source": [
    "# Define the search term and the date_since date as variables\n",
    "search_words = \"@Citi\"\n",
    "date_since = \"2019-11-01\""
   ]
  },
  {
   "cell_type": "code",
   "execution_count": 42,
   "metadata": {},
   "outputs": [],
   "source": [
    "# Collect tweets\n",
    "tweets = tw.Cursor(api.search,\n",
    "              q=search_words,\n",
    "              lang=\"en\",\n",
    "              since=date_since).items(3000)\n"
   ]
  },
  {
   "cell_type": "code",
   "execution_count": 43,
   "metadata": {},
   "outputs": [
    {
     "name": "stderr",
     "output_type": "stream",
     "text": [
      "2680it [01:10, 50.48it/s]"
     ]
    },
    {
     "ename": "KeyboardInterrupt",
     "evalue": "",
     "output_type": "error",
     "traceback": [
      "\u001b[0;31m---------------------------------------------------------------------------\u001b[0m",
      "\u001b[0;31mKeyboardInterrupt\u001b[0m                         Traceback (most recent call last)",
      "\u001b[0;32m<ipython-input-43-6acc0b56e0c5>\u001b[0m in \u001b[0;36m<module>\u001b[0;34m\u001b[0m\n\u001b[1;32m      1\u001b[0m \u001b[0mdata\u001b[0m\u001b[0;34m=\u001b[0m\u001b[0;34m[\u001b[0m\u001b[0;34m]\u001b[0m\u001b[0;34m\u001b[0m\u001b[0;34m\u001b[0m\u001b[0m\n\u001b[0;32m----> 2\u001b[0;31m \u001b[0;32mfor\u001b[0m \u001b[0ms\u001b[0m \u001b[0;32min\u001b[0m \u001b[0mtqdm\u001b[0m\u001b[0;34m(\u001b[0m\u001b[0mtweets\u001b[0m\u001b[0;34m)\u001b[0m\u001b[0;34m:\u001b[0m\u001b[0;34m\u001b[0m\u001b[0;34m\u001b[0m\u001b[0m\n\u001b[0m\u001b[1;32m      3\u001b[0m     \u001b[0mdata\u001b[0m\u001b[0;34m.\u001b[0m\u001b[0mappend\u001b[0m\u001b[0;34m(\u001b[0m\u001b[0ms\u001b[0m\u001b[0;34m.\u001b[0m\u001b[0mtext\u001b[0m\u001b[0;34m.\u001b[0m\u001b[0mencode\u001b[0m\u001b[0;34m(\u001b[0m\u001b[0;34m'utf8'\u001b[0m\u001b[0;34m)\u001b[0m \u001b[0;34m)\u001b[0m\u001b[0;34m\u001b[0m\u001b[0;34m\u001b[0m\u001b[0m\n",
      "\u001b[0;32m~/anaconda3/lib/python3.7/site-packages/tqdm/std.py\u001b[0m in \u001b[0;36m__iter__\u001b[0;34m(self)\u001b[0m\n\u001b[1;32m   1089\u001b[0m             \"\"\"), fp_write=getattr(self.fp, 'write', sys.stderr.write))\n\u001b[1;32m   1090\u001b[0m \u001b[0;34m\u001b[0m\u001b[0m\n\u001b[0;32m-> 1091\u001b[0;31m         \u001b[0;32mfor\u001b[0m \u001b[0mobj\u001b[0m \u001b[0;32min\u001b[0m \u001b[0miterable\u001b[0m\u001b[0;34m:\u001b[0m\u001b[0;34m\u001b[0m\u001b[0;34m\u001b[0m\u001b[0m\n\u001b[0m\u001b[1;32m   1092\u001b[0m             \u001b[0;32myield\u001b[0m \u001b[0mobj\u001b[0m\u001b[0;34m\u001b[0m\u001b[0;34m\u001b[0m\u001b[0m\n\u001b[1;32m   1093\u001b[0m             \u001b[0;31m# Update and possibly print the progressbar.\u001b[0m\u001b[0;34m\u001b[0m\u001b[0;34m\u001b[0m\u001b[0;34m\u001b[0m\u001b[0m\n",
      "\u001b[0;32m~/anaconda3/lib/python3.7/site-packages/tweepy/cursor.py\u001b[0m in \u001b[0;36m__next__\u001b[0;34m(self)\u001b[0m\n\u001b[1;32m     45\u001b[0m \u001b[0;34m\u001b[0m\u001b[0m\n\u001b[1;32m     46\u001b[0m     \u001b[0;32mdef\u001b[0m \u001b[0m__next__\u001b[0m\u001b[0;34m(\u001b[0m\u001b[0mself\u001b[0m\u001b[0;34m)\u001b[0m\u001b[0;34m:\u001b[0m\u001b[0;34m\u001b[0m\u001b[0;34m\u001b[0m\u001b[0m\n\u001b[0;32m---> 47\u001b[0;31m         \u001b[0;32mreturn\u001b[0m \u001b[0mself\u001b[0m\u001b[0;34m.\u001b[0m\u001b[0mnext\u001b[0m\u001b[0;34m(\u001b[0m\u001b[0;34m)\u001b[0m\u001b[0;34m\u001b[0m\u001b[0;34m\u001b[0m\u001b[0m\n\u001b[0m\u001b[1;32m     48\u001b[0m \u001b[0;34m\u001b[0m\u001b[0m\n\u001b[1;32m     49\u001b[0m     \u001b[0;32mdef\u001b[0m \u001b[0mnext\u001b[0m\u001b[0;34m(\u001b[0m\u001b[0mself\u001b[0m\u001b[0;34m)\u001b[0m\u001b[0;34m:\u001b[0m\u001b[0;34m\u001b[0m\u001b[0;34m\u001b[0m\u001b[0m\n",
      "\u001b[0;32m~/anaconda3/lib/python3.7/site-packages/tweepy/cursor.py\u001b[0m in \u001b[0;36mnext\u001b[0;34m(self)\u001b[0m\n\u001b[1;32m    193\u001b[0m         \u001b[0;32mif\u001b[0m \u001b[0mself\u001b[0m\u001b[0;34m.\u001b[0m\u001b[0mcurrent_page\u001b[0m \u001b[0;32mis\u001b[0m \u001b[0;32mNone\u001b[0m \u001b[0;32mor\u001b[0m \u001b[0mself\u001b[0m\u001b[0;34m.\u001b[0m\u001b[0mpage_index\u001b[0m \u001b[0;34m==\u001b[0m \u001b[0mlen\u001b[0m\u001b[0;34m(\u001b[0m\u001b[0mself\u001b[0m\u001b[0;34m.\u001b[0m\u001b[0mcurrent_page\u001b[0m\u001b[0;34m)\u001b[0m \u001b[0;34m-\u001b[0m \u001b[0;36m1\u001b[0m\u001b[0;34m:\u001b[0m\u001b[0;34m\u001b[0m\u001b[0;34m\u001b[0m\u001b[0m\n\u001b[1;32m    194\u001b[0m             \u001b[0;31m# Reached end of current page, get the next page...\u001b[0m\u001b[0;34m\u001b[0m\u001b[0;34m\u001b[0m\u001b[0;34m\u001b[0m\u001b[0m\n\u001b[0;32m--> 195\u001b[0;31m             \u001b[0mself\u001b[0m\u001b[0;34m.\u001b[0m\u001b[0mcurrent_page\u001b[0m \u001b[0;34m=\u001b[0m \u001b[0mself\u001b[0m\u001b[0;34m.\u001b[0m\u001b[0mpage_iterator\u001b[0m\u001b[0;34m.\u001b[0m\u001b[0mnext\u001b[0m\u001b[0;34m(\u001b[0m\u001b[0;34m)\u001b[0m\u001b[0;34m\u001b[0m\u001b[0;34m\u001b[0m\u001b[0m\n\u001b[0m\u001b[1;32m    196\u001b[0m             \u001b[0mself\u001b[0m\u001b[0;34m.\u001b[0m\u001b[0mpage_index\u001b[0m \u001b[0;34m=\u001b[0m \u001b[0;34m-\u001b[0m\u001b[0;36m1\u001b[0m\u001b[0;34m\u001b[0m\u001b[0;34m\u001b[0m\u001b[0m\n\u001b[1;32m    197\u001b[0m         \u001b[0mself\u001b[0m\u001b[0;34m.\u001b[0m\u001b[0mpage_index\u001b[0m \u001b[0;34m+=\u001b[0m \u001b[0;36m1\u001b[0m\u001b[0;34m\u001b[0m\u001b[0;34m\u001b[0m\u001b[0m\n",
      "\u001b[0;32m~/anaconda3/lib/python3.7/site-packages/tweepy/cursor.py\u001b[0m in \u001b[0;36mnext\u001b[0;34m(self)\u001b[0m\n\u001b[1;32m    104\u001b[0m \u001b[0;34m\u001b[0m\u001b[0m\n\u001b[1;32m    105\u001b[0m         \u001b[0;32mif\u001b[0m \u001b[0mself\u001b[0m\u001b[0;34m.\u001b[0m\u001b[0mindex\u001b[0m \u001b[0;34m>=\u001b[0m \u001b[0mlen\u001b[0m\u001b[0;34m(\u001b[0m\u001b[0mself\u001b[0m\u001b[0;34m.\u001b[0m\u001b[0mresults\u001b[0m\u001b[0;34m)\u001b[0m \u001b[0;34m-\u001b[0m \u001b[0;36m1\u001b[0m\u001b[0;34m:\u001b[0m\u001b[0;34m\u001b[0m\u001b[0;34m\u001b[0m\u001b[0m\n\u001b[0;32m--> 106\u001b[0;31m             \u001b[0mdata\u001b[0m \u001b[0;34m=\u001b[0m \u001b[0mself\u001b[0m\u001b[0;34m.\u001b[0m\u001b[0mmethod\u001b[0m\u001b[0;34m(\u001b[0m\u001b[0mmax_id\u001b[0m\u001b[0;34m=\u001b[0m\u001b[0mself\u001b[0m\u001b[0;34m.\u001b[0m\u001b[0mmax_id\u001b[0m\u001b[0;34m,\u001b[0m \u001b[0mparser\u001b[0m\u001b[0;34m=\u001b[0m\u001b[0mRawParser\u001b[0m\u001b[0;34m(\u001b[0m\u001b[0;34m)\u001b[0m\u001b[0;34m,\u001b[0m \u001b[0;34m*\u001b[0m\u001b[0mself\u001b[0m\u001b[0;34m.\u001b[0m\u001b[0margs\u001b[0m\u001b[0;34m,\u001b[0m \u001b[0;34m**\u001b[0m\u001b[0mself\u001b[0m\u001b[0;34m.\u001b[0m\u001b[0mkargs\u001b[0m\u001b[0;34m)\u001b[0m\u001b[0;34m\u001b[0m\u001b[0;34m\u001b[0m\u001b[0m\n\u001b[0m\u001b[1;32m    107\u001b[0m \u001b[0;34m\u001b[0m\u001b[0m\n\u001b[1;32m    108\u001b[0m             \u001b[0;32mif\u001b[0m \u001b[0mhasattr\u001b[0m\u001b[0;34m(\u001b[0m\u001b[0mself\u001b[0m\u001b[0;34m.\u001b[0m\u001b[0mmethod\u001b[0m\u001b[0;34m,\u001b[0m \u001b[0;34m'__self__'\u001b[0m\u001b[0;34m)\u001b[0m\u001b[0;34m:\u001b[0m\u001b[0;34m\u001b[0m\u001b[0;34m\u001b[0m\u001b[0m\n",
      "\u001b[0;32m~/anaconda3/lib/python3.7/site-packages/tweepy/binder.py\u001b[0m in \u001b[0;36m_call\u001b[0;34m(*args, **kwargs)\u001b[0m\n\u001b[1;32m    248\u001b[0m                 \u001b[0;32mreturn\u001b[0m \u001b[0mmethod\u001b[0m\u001b[0;34m\u001b[0m\u001b[0;34m\u001b[0m\u001b[0m\n\u001b[1;32m    249\u001b[0m             \u001b[0;32melse\u001b[0m\u001b[0;34m:\u001b[0m\u001b[0;34m\u001b[0m\u001b[0;34m\u001b[0m\u001b[0m\n\u001b[0;32m--> 250\u001b[0;31m                 \u001b[0;32mreturn\u001b[0m \u001b[0mmethod\u001b[0m\u001b[0;34m.\u001b[0m\u001b[0mexecute\u001b[0m\u001b[0;34m(\u001b[0m\u001b[0;34m)\u001b[0m\u001b[0;34m\u001b[0m\u001b[0;34m\u001b[0m\u001b[0m\n\u001b[0m\u001b[1;32m    251\u001b[0m         \u001b[0;32mfinally\u001b[0m\u001b[0;34m:\u001b[0m\u001b[0;34m\u001b[0m\u001b[0;34m\u001b[0m\u001b[0m\n\u001b[1;32m    252\u001b[0m             \u001b[0mmethod\u001b[0m\u001b[0;34m.\u001b[0m\u001b[0msession\u001b[0m\u001b[0;34m.\u001b[0m\u001b[0mclose\u001b[0m\u001b[0;34m(\u001b[0m\u001b[0;34m)\u001b[0m\u001b[0;34m\u001b[0m\u001b[0;34m\u001b[0m\u001b[0m\n",
      "\u001b[0;32m~/anaconda3/lib/python3.7/site-packages/tweepy/binder.py\u001b[0m in \u001b[0;36mexecute\u001b[0;34m(self)\u001b[0m\n\u001b[1;32m    160\u001b[0m                                     \u001b[0;32mif\u001b[0m \u001b[0mself\u001b[0m\u001b[0;34m.\u001b[0m\u001b[0mwait_on_rate_limit_notify\u001b[0m\u001b[0;34m:\u001b[0m\u001b[0;34m\u001b[0m\u001b[0;34m\u001b[0m\u001b[0m\n\u001b[1;32m    161\u001b[0m                                         \u001b[0mlog\u001b[0m\u001b[0;34m.\u001b[0m\u001b[0mwarning\u001b[0m\u001b[0;34m(\u001b[0m\u001b[0;34m\"Rate limit reached. Sleeping for: %d\"\u001b[0m \u001b[0;34m%\u001b[0m \u001b[0msleep_time\u001b[0m\u001b[0;34m)\u001b[0m\u001b[0;34m\u001b[0m\u001b[0;34m\u001b[0m\u001b[0m\n\u001b[0;32m--> 162\u001b[0;31m                                     \u001b[0mtime\u001b[0m\u001b[0;34m.\u001b[0m\u001b[0msleep\u001b[0m\u001b[0;34m(\u001b[0m\u001b[0msleep_time\u001b[0m \u001b[0;34m+\u001b[0m \u001b[0;36m5\u001b[0m\u001b[0;34m)\u001b[0m  \u001b[0;31m# sleep for few extra sec\u001b[0m\u001b[0;34m\u001b[0m\u001b[0;34m\u001b[0m\u001b[0m\n\u001b[0m\u001b[1;32m    163\u001b[0m \u001b[0;34m\u001b[0m\u001b[0m\n\u001b[1;32m    164\u001b[0m                 \u001b[0;31m# if self.wait_on_rate_limit and self._reset_time is not None and \\\u001b[0m\u001b[0;34m\u001b[0m\u001b[0;34m\u001b[0m\u001b[0;34m\u001b[0m\u001b[0m\n",
      "\u001b[0;31mKeyboardInterrupt\u001b[0m: "
     ]
    }
   ],
   "source": [
    "data=[]\n",
    "for s in tqdm(tweets):\n",
    "    data.append(s.text.encode('utf8') )"
   ]
  },
  {
   "cell_type": "code",
   "execution_count": 44,
   "metadata": {},
   "outputs": [
    {
     "data": {
      "text/plain": [
       "2694"
      ]
     },
     "execution_count": 44,
     "metadata": {},
     "output_type": "execute_result"
    }
   ],
   "source": [
    "len(data)"
   ]
  },
  {
   "cell_type": "code",
   "execution_count": 45,
   "metadata": {},
   "outputs": [
    {
     "name": "stderr",
     "output_type": "stream",
     "text": [
      "<>:4: DeprecationWarning: invalid escape sequence \\w\n",
      "<>:4: DeprecationWarning: invalid escape sequence \\w\n",
      "<>:4: DeprecationWarning: invalid escape sequence \\w\n",
      "<ipython-input-45-c524f21fe8d4>:4: DeprecationWarning: invalid escape sequence \\w\n",
      "  alltwt.append(' '.join(re.sub(\"(@[A-Za-z0-9]+)|([^0-9A-Za-z \\t])|(\\w+:\\/\\/\\S+)\",\" \",x).split()))\n"
     ]
    }
   ],
   "source": [
    "alltwt=[]\n",
    "for i in data:\n",
    "    x =str(i, 'utf-8')\n",
    "    alltwt.append(' '.join(re.sub(\"(@[A-Za-z0-9]+)|([^0-9A-Za-z \\t])|(\\w+:\\/\\/\\S+)\",\" \",x).split()))"
   ]
  },
  {
   "cell_type": "code",
   "execution_count": 46,
   "metadata": {},
   "outputs": [],
   "source": [
    "#remove the stopwords\n",
    "from nltk.corpus import stopwords\n",
    "stop_words = set(stopwords.words('english')) "
   ]
  },
  {
   "cell_type": "code",
   "execution_count": 47,
   "metadata": {},
   "outputs": [
    {
     "name": "stderr",
     "output_type": "stream",
     "text": [
      "\n",
      "  0%|          | 0/2694 [00:00<?, ?it/s]\u001b[A\n",
      "100%|██████████| 2694/2694 [00:00<00:00, 13968.97it/s]\n"
     ]
    }
   ],
   "source": [
    "from nltk.stem import WordNetLemmatizer\n",
    "lemmatizer = WordNetLemmatizer()\n",
    "out_arr=[]\n",
    "for twt in tqdm(alltwt):\n",
    "    data = twt.split()\n",
    "    inner_arr=[]\n",
    "    for i in data:\n",
    "        if i not in stop_words:\n",
    "            inner_arr.append((lemmatizer.lemmatize(i.lower())))\n",
    "    out_arr.append(inner_arr)"
   ]
  },
  {
   "cell_type": "code",
   "execution_count": null,
   "metadata": {},
   "outputs": [],
   "source": []
  },
  {
   "cell_type": "code",
   "execution_count": 48,
   "metadata": {},
   "outputs": [],
   "source": [
    "from gensim.models import Word2Vec\n",
    "import gensim"
   ]
  },
  {
   "cell_type": "code",
   "execution_count": 49,
   "metadata": {},
   "outputs": [],
   "source": [
    "model = gensim.models.Word2Vec(out_arr, min_count=1,size=200,window=2,iter=20,workers=2)"
   ]
  },
  {
   "cell_type": "code",
   "execution_count": null,
   "metadata": {},
   "outputs": [],
   "source": []
  },
  {
   "cell_type": "code",
   "execution_count": 50,
   "metadata": {},
   "outputs": [
    {
     "data": {
      "text/plain": [
       "[('financial', 0.917086124420166),\n",
       " ('customer', 0.9163394570350647),\n",
       " ('vacation', 0.9028521776199341),\n",
       " ('hello', 0.8977997303009033),\n",
       " ('within', 0.8952398300170898),\n",
       " ('miserable', 0.8945362567901611),\n",
       " ('regtech', 0.892692506313324),\n",
       " ('direct', 0.8887707591056824),\n",
       " ('approach', 0.8690682649612427),\n",
       " ('challenging', 0.8678646683692932),\n",
       " ('excellent', 0.8658445477485657),\n",
       " ('called', 0.8631377220153809),\n",
       " ('breach', 0.8630833625793457),\n",
       " ('innovating', 0.8630340099334717),\n",
       " ('internet', 0.8554661273956299),\n",
       " ('cambodia', 0.8533862233161926),\n",
       " ('money', 0.8519916534423828),\n",
       " ('leave', 0.850392758846283),\n",
       " ('vrsec', 0.8494607210159302),\n",
       " ('allowed', 0.849337100982666)]"
      ]
     },
     "execution_count": 50,
     "metadata": {},
     "output_type": "execute_result"
    }
   ],
   "source": [
    "word = \"service\"\n",
    "model.wv.most_similar(positive=word, topn=20)"
   ]
  },
  {
   "cell_type": "code",
   "execution_count": 51,
   "metadata": {},
   "outputs": [
    {
     "data": {
      "text/plain": [
       "[('hello', 0.972855269908905),\n",
       " ('15', 0.9566177129745483),\n",
       " ('disappointed', 0.9556820392608643),\n",
       " ('reply', 0.9554550647735596),\n",
       " ('experience', 0.9549350738525391),\n",
       " ('approach', 0.9543461203575134),\n",
       " ('vrsec', 0.9538570642471313),\n",
       " ('vacation', 0.9538004398345947),\n",
       " ('within', 0.9506697654724121),\n",
       " ('challenging', 0.9504146575927734),\n",
       " ('none', 0.9492953419685364),\n",
       " ('original', 0.9488800168037415),\n",
       " ('experienced', 0.9486130475997925),\n",
       " ('sooooo', 0.9480211734771729),\n",
       " ('excellent', 0.9478511810302734),\n",
       " ('accidentally', 0.9461226463317871),\n",
       " ('miserable', 0.9459228515625),\n",
       " ('heard', 0.9452987909317017),\n",
       " ('cambodia', 0.9452584981918335),\n",
       " ('economicgrowth', 0.9450675845146179)]"
      ]
     },
     "execution_count": 51,
     "metadata": {},
     "output_type": "execute_result"
    }
   ],
   "source": [
    "word = \"customer\"\n",
    "model.wv.most_similar(positive=word, topn=20)"
   ]
  },
  {
   "cell_type": "code",
   "execution_count": 52,
   "metadata": {},
   "outputs": [
    {
     "data": {
      "text/plain": [
       "0.9299686"
      ]
     },
     "execution_count": 52,
     "metadata": {},
     "output_type": "execute_result"
    }
   ],
   "source": [
    "model.wv.similarity(w1=\"good\", w2=\"bad\")"
   ]
  },
  {
   "cell_type": "code",
   "execution_count": 53,
   "metadata": {},
   "outputs": [
    {
     "name": "stderr",
     "output_type": "stream",
     "text": [
      "/Users/mohitdedhe/anaconda3/lib/python3.7/site-packages/smart_open/smart_open_lib.py:160: DeprecationWarning: inspect.getargspec() is deprecated, use inspect.signature() or inspect.getfullargspec()\n",
      "  args, varargs, keywords, defaults = inspect.getargspec(kallable)\n"
     ]
    },
    {
     "data": {
      "text/plain": [
       "(0.0,\n",
       " [{'section': 'capital-common-countries',\n",
       "   'correct': [],\n",
       "   'incorrect': [('BEIJING', 'CHINA', 'LONDON', 'ENGLAND'),\n",
       "    ('LONDON', 'ENGLAND', 'BEIJING', 'CHINA')]},\n",
       "  {'section': 'capital-world', 'correct': [], 'incorrect': []},\n",
       "  {'section': 'currency',\n",
       "   'correct': [],\n",
       "   'incorrect': [('BRAZIL', 'REAL', 'USA', 'DOLLAR'),\n",
       "    ('USA', 'DOLLAR', 'BRAZIL', 'REAL')]},\n",
       "  {'section': 'city-in-state', 'correct': [], 'incorrect': []},\n",
       "  {'section': 'family',\n",
       "   'correct': [],\n",
       "   'incorrect': [('FATHER', 'MOTHER', 'HE', 'SHE'),\n",
       "    ('FATHER', 'MOTHER', 'MAN', 'WOMAN'),\n",
       "    ('HE', 'SHE', 'MAN', 'WOMAN'),\n",
       "    ('HE', 'SHE', 'FATHER', 'MOTHER'),\n",
       "    ('MAN', 'WOMAN', 'FATHER', 'MOTHER'),\n",
       "    ('MAN', 'WOMAN', 'HE', 'SHE')]},\n",
       "  {'section': 'gram1-adjective-to-adverb', 'correct': [], 'incorrect': []},\n",
       "  {'section': 'gram2-opposite', 'correct': [], 'incorrect': []},\n",
       "  {'section': 'gram3-comparative',\n",
       "   'correct': [],\n",
       "   'incorrect': [('BAD', 'WORSE', 'BIG', 'BIGGER'),\n",
       "    ('BAD', 'WORSE', 'GOOD', 'BETTER'),\n",
       "    ('BAD', 'WORSE', 'LONG', 'LONGER'),\n",
       "    ('BAD', 'WORSE', 'SMALL', 'SMALLER'),\n",
       "    ('BIG', 'BIGGER', 'GOOD', 'BETTER'),\n",
       "    ('BIG', 'BIGGER', 'LONG', 'LONGER'),\n",
       "    ('BIG', 'BIGGER', 'SMALL', 'SMALLER'),\n",
       "    ('BIG', 'BIGGER', 'BAD', 'WORSE'),\n",
       "    ('GOOD', 'BETTER', 'LONG', 'LONGER'),\n",
       "    ('GOOD', 'BETTER', 'SMALL', 'SMALLER'),\n",
       "    ('GOOD', 'BETTER', 'BAD', 'WORSE'),\n",
       "    ('GOOD', 'BETTER', 'BIG', 'BIGGER'),\n",
       "    ('LONG', 'LONGER', 'SMALL', 'SMALLER'),\n",
       "    ('LONG', 'LONGER', 'BAD', 'WORSE'),\n",
       "    ('LONG', 'LONGER', 'BIG', 'BIGGER'),\n",
       "    ('LONG', 'LONGER', 'GOOD', 'BETTER'),\n",
       "    ('SMALL', 'SMALLER', 'BAD', 'WORSE'),\n",
       "    ('SMALL', 'SMALLER', 'BIG', 'BIGGER'),\n",
       "    ('SMALL', 'SMALLER', 'GOOD', 'BETTER'),\n",
       "    ('SMALL', 'SMALLER', 'LONG', 'LONGER')]},\n",
       "  {'section': 'gram4-superlative',\n",
       "   'correct': [],\n",
       "   'incorrect': [('BAD', 'WORST', 'BIG', 'BIGGEST'),\n",
       "    ('BAD', 'WORST', 'GOOD', 'BEST'),\n",
       "    ('BAD', 'WORST', 'HIGH', 'HIGHEST'),\n",
       "    ('BAD', 'WORST', 'LOW', 'LOWEST'),\n",
       "    ('BIG', 'BIGGEST', 'GOOD', 'BEST'),\n",
       "    ('BIG', 'BIGGEST', 'HIGH', 'HIGHEST'),\n",
       "    ('BIG', 'BIGGEST', 'LOW', 'LOWEST'),\n",
       "    ('BIG', 'BIGGEST', 'BAD', 'WORST'),\n",
       "    ('GOOD', 'BEST', 'HIGH', 'HIGHEST'),\n",
       "    ('GOOD', 'BEST', 'LOW', 'LOWEST'),\n",
       "    ('GOOD', 'BEST', 'BAD', 'WORST'),\n",
       "    ('GOOD', 'BEST', 'BIG', 'BIGGEST'),\n",
       "    ('HIGH', 'HIGHEST', 'LOW', 'LOWEST'),\n",
       "    ('HIGH', 'HIGHEST', 'BAD', 'WORST'),\n",
       "    ('HIGH', 'HIGHEST', 'BIG', 'BIGGEST'),\n",
       "    ('HIGH', 'HIGHEST', 'GOOD', 'BEST'),\n",
       "    ('LOW', 'LOWEST', 'BAD', 'WORST'),\n",
       "    ('LOW', 'LOWEST', 'BIG', 'BIGGEST'),\n",
       "    ('LOW', 'LOWEST', 'GOOD', 'BEST'),\n",
       "    ('LOW', 'LOWEST', 'HIGH', 'HIGHEST')]},\n",
       "  {'section': 'gram5-present-participle',\n",
       "   'correct': [],\n",
       "   'incorrect': [('GO', 'GOING', 'INCREASE', 'INCREASING'),\n",
       "    ('GO', 'GOING', 'LOOK', 'LOOKING'),\n",
       "    ('GO', 'GOING', 'READ', 'READING'),\n",
       "    ('GO', 'GOING', 'RUN', 'RUNNING'),\n",
       "    ('INCREASE', 'INCREASING', 'LOOK', 'LOOKING'),\n",
       "    ('INCREASE', 'INCREASING', 'READ', 'READING'),\n",
       "    ('INCREASE', 'INCREASING', 'RUN', 'RUNNING'),\n",
       "    ('INCREASE', 'INCREASING', 'GO', 'GOING'),\n",
       "    ('LOOK', 'LOOKING', 'READ', 'READING'),\n",
       "    ('LOOK', 'LOOKING', 'RUN', 'RUNNING'),\n",
       "    ('LOOK', 'LOOKING', 'GO', 'GOING'),\n",
       "    ('LOOK', 'LOOKING', 'INCREASE', 'INCREASING'),\n",
       "    ('READ', 'READING', 'RUN', 'RUNNING'),\n",
       "    ('READ', 'READING', 'GO', 'GOING'),\n",
       "    ('READ', 'READING', 'INCREASE', 'INCREASING'),\n",
       "    ('READ', 'READING', 'LOOK', 'LOOKING'),\n",
       "    ('RUN', 'RUNNING', 'GO', 'GOING'),\n",
       "    ('RUN', 'RUNNING', 'INCREASE', 'INCREASING'),\n",
       "    ('RUN', 'RUNNING', 'LOOK', 'LOOKING'),\n",
       "    ('RUN', 'RUNNING', 'READ', 'READING')]},\n",
       "  {'section': 'gram6-nationality-adjective',\n",
       "   'correct': [],\n",
       "   'incorrect': [('AUSTRALIA', 'AUSTRALIAN', 'CHINA', 'CHINESE'),\n",
       "    ('AUSTRALIA', 'AUSTRALIAN', 'GERMANY', 'GERMAN'),\n",
       "    ('AUSTRALIA', 'AUSTRALIAN', 'INDIA', 'INDIAN'),\n",
       "    ('CHINA', 'CHINESE', 'GERMANY', 'GERMAN'),\n",
       "    ('CHINA', 'CHINESE', 'INDIA', 'INDIAN'),\n",
       "    ('CHINA', 'CHINESE', 'AUSTRALIA', 'AUSTRALIAN'),\n",
       "    ('GERMANY', 'GERMAN', 'INDIA', 'INDIAN'),\n",
       "    ('GERMANY', 'GERMAN', 'AUSTRALIA', 'AUSTRALIAN'),\n",
       "    ('GERMANY', 'GERMAN', 'CHINA', 'CHINESE'),\n",
       "    ('INDIA', 'INDIAN', 'AUSTRALIA', 'AUSTRALIAN'),\n",
       "    ('INDIA', 'INDIAN', 'CHINA', 'CHINESE'),\n",
       "    ('INDIA', 'INDIAN', 'GERMANY', 'GERMAN')]},\n",
       "  {'section': 'gram7-past-tense',\n",
       "   'correct': [],\n",
       "   'incorrect': [('GOING', 'WENT', 'INCREASING', 'INCREASED'),\n",
       "    ('GOING', 'WENT', 'READING', 'READ'),\n",
       "    ('GOING', 'WENT', 'RUNNING', 'RAN'),\n",
       "    ('GOING', 'WENT', 'TAKING', 'TOOK'),\n",
       "    ('INCREASING', 'INCREASED', 'READING', 'READ'),\n",
       "    ('INCREASING', 'INCREASED', 'RUNNING', 'RAN'),\n",
       "    ('INCREASING', 'INCREASED', 'TAKING', 'TOOK'),\n",
       "    ('INCREASING', 'INCREASED', 'GOING', 'WENT'),\n",
       "    ('READING', 'READ', 'RUNNING', 'RAN'),\n",
       "    ('READING', 'READ', 'TAKING', 'TOOK'),\n",
       "    ('READING', 'READ', 'GOING', 'WENT'),\n",
       "    ('READING', 'READ', 'INCREASING', 'INCREASED'),\n",
       "    ('RUNNING', 'RAN', 'TAKING', 'TOOK'),\n",
       "    ('RUNNING', 'RAN', 'GOING', 'WENT'),\n",
       "    ('RUNNING', 'RAN', 'INCREASING', 'INCREASED'),\n",
       "    ('RUNNING', 'RAN', 'READING', 'READ'),\n",
       "    ('TAKING', 'TOOK', 'GOING', 'WENT'),\n",
       "    ('TAKING', 'TOOK', 'INCREASING', 'INCREASED'),\n",
       "    ('TAKING', 'TOOK', 'READING', 'READ'),\n",
       "    ('TAKING', 'TOOK', 'RUNNING', 'RAN')]},\n",
       "  {'section': 'gram8-plural', 'correct': [], 'incorrect': []},\n",
       "  {'section': 'gram9-plural-verbs', 'correct': [], 'incorrect': []},\n",
       "  {'section': 'Total accuracy',\n",
       "   'correct': [],\n",
       "   'incorrect': [('BEIJING', 'CHINA', 'LONDON', 'ENGLAND'),\n",
       "    ('LONDON', 'ENGLAND', 'BEIJING', 'CHINA'),\n",
       "    ('BRAZIL', 'REAL', 'USA', 'DOLLAR'),\n",
       "    ('USA', 'DOLLAR', 'BRAZIL', 'REAL'),\n",
       "    ('FATHER', 'MOTHER', 'HE', 'SHE'),\n",
       "    ('FATHER', 'MOTHER', 'MAN', 'WOMAN'),\n",
       "    ('HE', 'SHE', 'MAN', 'WOMAN'),\n",
       "    ('HE', 'SHE', 'FATHER', 'MOTHER'),\n",
       "    ('MAN', 'WOMAN', 'FATHER', 'MOTHER'),\n",
       "    ('MAN', 'WOMAN', 'HE', 'SHE'),\n",
       "    ('BAD', 'WORSE', 'BIG', 'BIGGER'),\n",
       "    ('BAD', 'WORSE', 'GOOD', 'BETTER'),\n",
       "    ('BAD', 'WORSE', 'LONG', 'LONGER'),\n",
       "    ('BAD', 'WORSE', 'SMALL', 'SMALLER'),\n",
       "    ('BIG', 'BIGGER', 'GOOD', 'BETTER'),\n",
       "    ('BIG', 'BIGGER', 'LONG', 'LONGER'),\n",
       "    ('BIG', 'BIGGER', 'SMALL', 'SMALLER'),\n",
       "    ('BIG', 'BIGGER', 'BAD', 'WORSE'),\n",
       "    ('GOOD', 'BETTER', 'LONG', 'LONGER'),\n",
       "    ('GOOD', 'BETTER', 'SMALL', 'SMALLER'),\n",
       "    ('GOOD', 'BETTER', 'BAD', 'WORSE'),\n",
       "    ('GOOD', 'BETTER', 'BIG', 'BIGGER'),\n",
       "    ('LONG', 'LONGER', 'SMALL', 'SMALLER'),\n",
       "    ('LONG', 'LONGER', 'BAD', 'WORSE'),\n",
       "    ('LONG', 'LONGER', 'BIG', 'BIGGER'),\n",
       "    ('LONG', 'LONGER', 'GOOD', 'BETTER'),\n",
       "    ('SMALL', 'SMALLER', 'BAD', 'WORSE'),\n",
       "    ('SMALL', 'SMALLER', 'BIG', 'BIGGER'),\n",
       "    ('SMALL', 'SMALLER', 'GOOD', 'BETTER'),\n",
       "    ('SMALL', 'SMALLER', 'LONG', 'LONGER'),\n",
       "    ('BAD', 'WORST', 'BIG', 'BIGGEST'),\n",
       "    ('BAD', 'WORST', 'GOOD', 'BEST'),\n",
       "    ('BAD', 'WORST', 'HIGH', 'HIGHEST'),\n",
       "    ('BAD', 'WORST', 'LOW', 'LOWEST'),\n",
       "    ('BIG', 'BIGGEST', 'GOOD', 'BEST'),\n",
       "    ('BIG', 'BIGGEST', 'HIGH', 'HIGHEST'),\n",
       "    ('BIG', 'BIGGEST', 'LOW', 'LOWEST'),\n",
       "    ('BIG', 'BIGGEST', 'BAD', 'WORST'),\n",
       "    ('GOOD', 'BEST', 'HIGH', 'HIGHEST'),\n",
       "    ('GOOD', 'BEST', 'LOW', 'LOWEST'),\n",
       "    ('GOOD', 'BEST', 'BAD', 'WORST'),\n",
       "    ('GOOD', 'BEST', 'BIG', 'BIGGEST'),\n",
       "    ('HIGH', 'HIGHEST', 'LOW', 'LOWEST'),\n",
       "    ('HIGH', 'HIGHEST', 'BAD', 'WORST'),\n",
       "    ('HIGH', 'HIGHEST', 'BIG', 'BIGGEST'),\n",
       "    ('HIGH', 'HIGHEST', 'GOOD', 'BEST'),\n",
       "    ('LOW', 'LOWEST', 'BAD', 'WORST'),\n",
       "    ('LOW', 'LOWEST', 'BIG', 'BIGGEST'),\n",
       "    ('LOW', 'LOWEST', 'GOOD', 'BEST'),\n",
       "    ('LOW', 'LOWEST', 'HIGH', 'HIGHEST'),\n",
       "    ('GO', 'GOING', 'INCREASE', 'INCREASING'),\n",
       "    ('GO', 'GOING', 'LOOK', 'LOOKING'),\n",
       "    ('GO', 'GOING', 'READ', 'READING'),\n",
       "    ('GO', 'GOING', 'RUN', 'RUNNING'),\n",
       "    ('INCREASE', 'INCREASING', 'LOOK', 'LOOKING'),\n",
       "    ('INCREASE', 'INCREASING', 'READ', 'READING'),\n",
       "    ('INCREASE', 'INCREASING', 'RUN', 'RUNNING'),\n",
       "    ('INCREASE', 'INCREASING', 'GO', 'GOING'),\n",
       "    ('LOOK', 'LOOKING', 'READ', 'READING'),\n",
       "    ('LOOK', 'LOOKING', 'RUN', 'RUNNING'),\n",
       "    ('LOOK', 'LOOKING', 'GO', 'GOING'),\n",
       "    ('LOOK', 'LOOKING', 'INCREASE', 'INCREASING'),\n",
       "    ('READ', 'READING', 'RUN', 'RUNNING'),\n",
       "    ('READ', 'READING', 'GO', 'GOING'),\n",
       "    ('READ', 'READING', 'INCREASE', 'INCREASING'),\n",
       "    ('READ', 'READING', 'LOOK', 'LOOKING'),\n",
       "    ('RUN', 'RUNNING', 'GO', 'GOING'),\n",
       "    ('RUN', 'RUNNING', 'INCREASE', 'INCREASING'),\n",
       "    ('RUN', 'RUNNING', 'LOOK', 'LOOKING'),\n",
       "    ('RUN', 'RUNNING', 'READ', 'READING'),\n",
       "    ('AUSTRALIA', 'AUSTRALIAN', 'CHINA', 'CHINESE'),\n",
       "    ('AUSTRALIA', 'AUSTRALIAN', 'GERMANY', 'GERMAN'),\n",
       "    ('AUSTRALIA', 'AUSTRALIAN', 'INDIA', 'INDIAN'),\n",
       "    ('CHINA', 'CHINESE', 'GERMANY', 'GERMAN'),\n",
       "    ('CHINA', 'CHINESE', 'INDIA', 'INDIAN'),\n",
       "    ('CHINA', 'CHINESE', 'AUSTRALIA', 'AUSTRALIAN'),\n",
       "    ('GERMANY', 'GERMAN', 'INDIA', 'INDIAN'),\n",
       "    ('GERMANY', 'GERMAN', 'AUSTRALIA', 'AUSTRALIAN'),\n",
       "    ('GERMANY', 'GERMAN', 'CHINA', 'CHINESE'),\n",
       "    ('INDIA', 'INDIAN', 'AUSTRALIA', 'AUSTRALIAN'),\n",
       "    ('INDIA', 'INDIAN', 'CHINA', 'CHINESE'),\n",
       "    ('INDIA', 'INDIAN', 'GERMANY', 'GERMAN'),\n",
       "    ('GOING', 'WENT', 'INCREASING', 'INCREASED'),\n",
       "    ('GOING', 'WENT', 'READING', 'READ'),\n",
       "    ('GOING', 'WENT', 'RUNNING', 'RAN'),\n",
       "    ('GOING', 'WENT', 'TAKING', 'TOOK'),\n",
       "    ('INCREASING', 'INCREASED', 'READING', 'READ'),\n",
       "    ('INCREASING', 'INCREASED', 'RUNNING', 'RAN'),\n",
       "    ('INCREASING', 'INCREASED', 'TAKING', 'TOOK'),\n",
       "    ('INCREASING', 'INCREASED', 'GOING', 'WENT'),\n",
       "    ('READING', 'READ', 'RUNNING', 'RAN'),\n",
       "    ('READING', 'READ', 'TAKING', 'TOOK'),\n",
       "    ('READING', 'READ', 'GOING', 'WENT'),\n",
       "    ('READING', 'READ', 'INCREASING', 'INCREASED'),\n",
       "    ('RUNNING', 'RAN', 'TAKING', 'TOOK'),\n",
       "    ('RUNNING', 'RAN', 'GOING', 'WENT'),\n",
       "    ('RUNNING', 'RAN', 'INCREASING', 'INCREASED'),\n",
       "    ('RUNNING', 'RAN', 'READING', 'READ'),\n",
       "    ('TAKING', 'TOOK', 'GOING', 'WENT'),\n",
       "    ('TAKING', 'TOOK', 'INCREASING', 'INCREASED'),\n",
       "    ('TAKING', 'TOOK', 'READING', 'READ'),\n",
       "    ('TAKING', 'TOOK', 'RUNNING', 'RAN')]}])"
      ]
     },
     "execution_count": 53,
     "metadata": {},
     "output_type": "execute_result"
    }
   ],
   "source": [
    "model.wv.evaluate_word_analogies('questions-words.txt', restrict_vocab=20000, case_insensitive=True)"
   ]
  },
  {
   "cell_type": "code",
   "execution_count": null,
   "metadata": {},
   "outputs": [],
   "source": []
  },
  {
   "cell_type": "markdown",
   "metadata": {},
   "source": [
    "<h1>Topic Modeling LDA</h1>"
   ]
  },
  {
   "cell_type": "code",
   "execution_count": 55,
   "metadata": {},
   "outputs": [
    {
     "name": "stderr",
     "output_type": "stream",
     "text": [
      "/Users/mohitdedhe/anaconda3/lib/python3.7/site-packages/smart_open/smart_open_lib.py:160: DeprecationWarning: inspect.getargspec() is deprecated, use inspect.signature() or inspect.getfullargspec()\n",
      "  args, varargs, keywords, defaults = inspect.getargspec(kallable)\n"
     ]
    }
   ],
   "source": [
    "from gensim import corpora\n",
    "dictionary = corpora.Dictionary(out_arr)\n",
    "corpus = [dictionary.doc2bow(text) for text in out_arr]\n",
    "import pickle\n",
    "pickle.dump(corpus, open('corpus.pkl', 'wb'))\n",
    "dictionary.save('dictionary.gensim')"
   ]
  },
  {
   "cell_type": "code",
   "execution_count": 56,
   "metadata": {},
   "outputs": [
    {
     "name": "stdout",
     "output_type": "stream",
     "text": [
      "(0, '0.083*\"rt\" + 0.023*\"demand\" + 0.021*\"latest\" + 0.021*\"series\" + 0.020*\"concert\" + 0.020*\"127\"')\n",
      "(1, '0.043*\"rt\" + 0.028*\"amp\" + 0.027*\"citi\" + 0.026*\"head\" + 0.026*\"global\" + 0.025*\"sara\"')\n",
      "(2, '0.079*\"rt\" + 0.072*\"time\" + 0.070*\"next\" + 0.069*\"presented\" + 0.069*\"100\" + 0.069*\"honoree\"')\n",
      "(3, '0.036*\"rt\" + 0.025*\"proud\" + 0.022*\"year\" + 0.019*\"he\" + 0.019*\"named\" + 0.019*\"meet\"')\n"
     ]
    },
    {
     "name": "stderr",
     "output_type": "stream",
     "text": [
      "/Users/mohitdedhe/anaconda3/lib/python3.7/site-packages/smart_open/smart_open_lib.py:160: DeprecationWarning: inspect.getargspec() is deprecated, use inspect.signature() or inspect.getfullargspec()\n",
      "  args, varargs, keywords, defaults = inspect.getargspec(kallable)\n",
      "/Users/mohitdedhe/anaconda3/lib/python3.7/site-packages/smart_open/smart_open_lib.py:160: DeprecationWarning: inspect.getargspec() is deprecated, use inspect.signature() or inspect.getfullargspec()\n",
      "  args, varargs, keywords, defaults = inspect.getargspec(kallable)\n",
      "/Users/mohitdedhe/anaconda3/lib/python3.7/site-packages/smart_open/smart_open_lib.py:160: DeprecationWarning: inspect.getargspec() is deprecated, use inspect.signature() or inspect.getfullargspec()\n",
      "  args, varargs, keywords, defaults = inspect.getargspec(kallable)\n"
     ]
    }
   ],
   "source": [
    "import gensim\n",
    "NUM_TOPICS = 4\n",
    "ldamodel = gensim.models.ldamodel.LdaModel(corpus, num_topics = NUM_TOPICS, id2word=dictionary, passes=15)\n",
    "ldamodel.save('model3.gensim')\n",
    "topics = ldamodel.print_topics(num_words=6)\n",
    "for topic in topics:\n",
    "    print(topic)"
   ]
  },
  {
   "cell_type": "code",
   "execution_count": 57,
   "metadata": {},
   "outputs": [
    {
     "name": "stderr",
     "output_type": "stream",
     "text": [
      "/Users/mohitdedhe/anaconda3/lib/python3.7/site-packages/smart_open/smart_open_lib.py:160: DeprecationWarning: inspect.getargspec() is deprecated, use inspect.signature() or inspect.getfullargspec()\n",
      "  args, varargs, keywords, defaults = inspect.getargspec(kallable)\n",
      "/Users/mohitdedhe/anaconda3/lib/python3.7/site-packages/smart_open/smart_open_lib.py:160: DeprecationWarning: inspect.getargspec() is deprecated, use inspect.signature() or inspect.getfullargspec()\n",
      "  args, varargs, keywords, defaults = inspect.getargspec(kallable)\n",
      "/Users/mohitdedhe/anaconda3/lib/python3.7/site-packages/smart_open/smart_open_lib.py:160: DeprecationWarning: inspect.getargspec() is deprecated, use inspect.signature() or inspect.getfullargspec()\n",
      "  args, varargs, keywords, defaults = inspect.getargspec(kallable)\n",
      "/Users/mohitdedhe/anaconda3/lib/python3.7/site-packages/smart_open/smart_open_lib.py:160: DeprecationWarning: inspect.getargspec() is deprecated, use inspect.signature() or inspect.getfullargspec()\n",
      "  args, varargs, keywords, defaults = inspect.getargspec(kallable)\n",
      "/Users/mohitdedhe/anaconda3/lib/python3.7/site-packages/pyLDAvis/_prepare.py:257: FutureWarning: Sorting because non-concatenation axis is not aligned. A future version\n",
      "of pandas will change to not sort by default.\n",
      "\n",
      "To accept the future behavior, pass 'sort=False'.\n",
      "\n",
      "To retain the current behavior and silence the warning, pass 'sort=True'.\n",
      "\n",
      "  return pd.concat([default_term_info] + list(topic_dfs))\n"
     ]
    },
    {
     "data": {
      "text/html": [
       "\n",
       "<link rel=\"stylesheet\" type=\"text/css\" href=\"https://cdn.rawgit.com/bmabey/pyLDAvis/files/ldavis.v1.0.0.css\">\n",
       "\n",
       "\n",
       "<div id=\"ldavis_el15331122161465923026483648\"></div>\n",
       "<script type=\"text/javascript\">\n",
       "\n",
       "var ldavis_el15331122161465923026483648_data = {\"mdsDat\": {\"x\": [-0.07630271429402219, -0.07304183705596395, 0.33081086802608617, -0.18146631667610008], \"y\": [-0.2825337257652146, 0.2012367360851367, 0.01540821305560043, 0.06588877662447745], \"topics\": [1, 2, 3, 4], \"cluster\": [1, 1, 1, 1], \"Freq\": [41.459510803222656, 23.816295623779297, 18.524173736572266, 16.200021743774414]}, \"tinfo\": {\"Category\": [\"Default\", \"Default\", \"Default\", \"Default\", \"Default\", \"Default\", \"Default\", \"Default\", \"Default\", \"Default\", \"Default\", \"Default\", \"Default\", \"Default\", \"Default\", \"Default\", \"Default\", \"Default\", \"Default\", \"Default\", \"Default\", \"Default\", \"Default\", \"Default\", \"Default\", \"Default\", \"Default\", \"Default\", \"Default\", \"Default\", \"Topic1\", \"Topic1\", \"Topic1\", \"Topic1\", \"Topic1\", \"Topic1\", \"Topic1\", \"Topic1\", \"Topic1\", \"Topic1\", \"Topic1\", \"Topic1\", \"Topic1\", \"Topic1\", \"Topic1\", \"Topic1\", \"Topic1\", \"Topic1\", \"Topic1\", \"Topic1\", \"Topic1\", \"Topic1\", \"Topic1\", \"Topic1\", \"Topic1\", \"Topic1\", \"Topic1\", \"Topic1\", \"Topic1\", \"Topic1\", \"Topic1\", \"Topic1\", \"Topic1\", \"Topic1\", \"Topic1\", \"Topic1\", \"Topic1\", \"Topic2\", \"Topic2\", \"Topic2\", \"Topic2\", \"Topic2\", \"Topic2\", \"Topic2\", \"Topic2\", \"Topic2\", \"Topic2\", \"Topic2\", \"Topic2\", \"Topic2\", \"Topic2\", \"Topic2\", \"Topic2\", \"Topic2\", \"Topic2\", \"Topic2\", \"Topic2\", \"Topic2\", \"Topic2\", \"Topic2\", \"Topic2\", \"Topic2\", \"Topic2\", \"Topic2\", \"Topic2\", \"Topic2\", \"Topic2\", \"Topic2\", \"Topic2\", \"Topic2\", \"Topic2\", \"Topic2\", \"Topic2\", \"Topic2\", \"Topic2\", \"Topic2\", \"Topic2\", \"Topic3\", \"Topic3\", \"Topic3\", \"Topic3\", \"Topic3\", \"Topic3\", \"Topic3\", \"Topic3\", \"Topic3\", \"Topic3\", \"Topic3\", \"Topic3\", \"Topic3\", \"Topic3\", \"Topic3\", \"Topic3\", \"Topic3\", \"Topic3\", \"Topic3\", \"Topic3\", \"Topic3\", \"Topic3\", \"Topic3\", \"Topic3\", \"Topic3\", \"Topic3\", \"Topic3\", \"Topic3\", \"Topic3\", \"Topic3\", \"Topic3\", \"Topic3\", \"Topic3\", \"Topic3\", \"Topic3\", \"Topic3\", \"Topic3\", \"Topic3\", \"Topic3\", \"Topic3\", \"Topic3\", \"Topic3\", \"Topic3\", \"Topic4\", \"Topic4\", \"Topic4\", \"Topic4\", \"Topic4\", \"Topic4\", \"Topic4\", \"Topic4\", \"Topic4\", \"Topic4\", \"Topic4\", \"Topic4\", \"Topic4\", \"Topic4\", \"Topic4\", \"Topic4\", \"Topic4\", \"Topic4\", \"Topic4\", \"Topic4\", \"Topic4\", \"Topic4\", \"Topic4\", \"Topic4\", \"Topic4\", \"Topic4\", \"Topic4\", \"Topic4\", \"Topic4\", \"Topic4\", \"Topic4\", \"Topic4\", \"Topic4\", \"Topic4\", \"Topic4\", \"Topic4\", \"Topic4\", \"Topic4\", \"Topic4\", \"Topic4\"], \"Freq\": [400.0, 383.0, 381.0, 381.0, 436.0, 469.0, 323.0, 323.0, 320.0, 318.0, 199.0, 187.0, 179.0, 178.0, 178.0, 282.0, 267.0, 166.0, 160.0, 266.0, 265.0, 159.0, 158.0, 158.0, 154.0, 154.0, 154.0, 251.0, 251.0, 251.0, 282.369140625, 265.4518127441406, 264.66229248046875, 251.35195922851562, 251.35186767578125, 251.35189819335938, 219.71487426757812, 196.6149444580078, 186.0137939453125, 184.7410430908203, 179.1566162109375, 179.1566162109375, 179.15660095214844, 178.51939392089844, 178.5193328857422, 154.5780487060547, 139.0907440185547, 137.7391815185547, 135.90347290039062, 133.99435424804688, 134.5531005859375, 132.7181396484375, 131.44557189941406, 131.44558715820312, 131.44557189941406, 103.88630676269531, 102.61380004882812, 102.5393295288086, 102.56470489501953, 100.70170593261719, 136.11849975585938, 1030.1568603515625, 248.4493408203125, 187.776123046875, 249.2961883544922, 194.3149871826172, 147.2791748046875, 198.650390625, 186.69338989257812, 178.4004669189453, 177.40451049804688, 177.40452575683594, 160.22265625, 158.78579711914062, 157.84637451171875, 157.84617614746094, 153.42152404785156, 153.42152404785156, 153.42152404785156, 166.06057739257812, 78.35511779785156, 77.85810852050781, 75.92274475097656, 75.92274475097656, 75.92274475097656, 75.92274475097656, 51.49441146850586, 43.292808532714844, 39.251678466796875, 36.98897171020508, 36.32780838012695, 33.343387603759766, 29.47254753112793, 27.141271591186523, 25.37639045715332, 25.37639045715332, 23.440963745117188, 166.818115234375, 55.62593460083008, 48.20112609863281, 182.37905883789062, 50.62000274658203, 193.1695098876953, 63.67063522338867, 309.3252868652344, 85.55237579345703, 60.83379364013672, 399.5467834472656, 383.04901123046875, 380.94244384765625, 380.9423828125, 323.1649169921875, 322.4075012207031, 319.267333984375, 317.8756408691406, 47.33163833618164, 46.97361755371094, 46.97361755371094, 46.97361755371094, 46.97361755371094, 46.97361755371094, 46.97361373901367, 22.191909790039062, 10.012863159179688, 8.62109088897705, 8.269266128540039, 8.269266128540039, 8.269266128540039, 8.269266128540039, 5.801095962524414, 385.7190856933594, 4.624014854431152, 4.59381628036499, 3.7358200550079346, 3.7358200550079346, 3.7358200550079346, 3.7358200550079346, 383.0828857421875, 3.7358200550079346, 56.19081115722656, 17.087013244628906, 54.601806640625, 435.3698425292969, 11.618253707885742, 48.17452621459961, 47.030731201171875, 47.01557922363281, 52.49876022338867, 9.303504943847656, 11.615950584411621, 107.33423614501953, 94.26409912109375, 92.63068389892578, 91.49185943603516, 89.29762268066406, 88.7322769165039, 85.969970703125, 85.96981811523438, 85.40431213378906, 84.83856201171875, 84.83856201171875, 84.83856201171875, 84.83856201171875, 84.83856201171875, 84.83856201171875, 84.83856201171875, 40.261009216308594, 37.262908935546875, 36.0725212097168, 36.07237243652344, 36.131221771240234, 34.43906021118164, 33.87330627441406, 33.87331771850586, 34.66765594482422, 31.4121150970459, 30.272674560546875, 28.08083152770996, 27.51488494873047, 27.51488494873047, 27.51488494873047, 74.90414428710938, 119.9942855834961, 173.85374450683594, 43.59763717651367, 64.28744506835938, 38.70759201049805, 40.862911224365234, 37.050628662109375, 35.093894958496094], \"Term\": [\"time\", \"100\", \"honoree\", \"time100next\", \"next\", \"presented\", \"first\", \"spent\", \"paycheck\", \"itsaboutt\", \"amp\", \"head\", \"sara\", \"hr\", \"wechter\", \"demand\", \"proud\", \"advice\", \"share\", \"latest\", \"series\", \"more\", \"looking\", \"career\", \"important\", \"grow\", \"succeed\", \"concert\", \"spotted\", \"127\", \"demand\", \"latest\", \"series\", \"concert\", \"spotted\", \"127\", \"a\", \"company\", \"technology\", \"consumer\", \"evolve\", \"betting\", \"episode\", \"transla\", \"listen\", \"support\", \"community\", \"military\", \"award\", \"commitment\", \"bring\", \"family\", \"earn\", \"them\", \"through\", \"put\", \"continue\", \"ad\", \"work\", \"sure\", \"foundation\", \"rt\", \"i\", \"we\", \"citi\", \"global\", \"proud\", \"amp\", \"head\", \"sara\", \"hr\", \"wechter\", \"share\", \"more\", \"looking\", \"career\", \"important\", \"grow\", \"succeed\", \"advice\", \"reserve\", \"force\", \"air\", \"off\", \"tournament\", \"tip\", \"equal\", \"final\", \"mccormackmp\", \"hoftipoff\", \"congratulation\", \"champion\", \"bracket\", \"in\", \"67\", \"80\", \"nais\", \"people\", \"opportunity\", \"itsabouttime\", \"global\", \"ht\", \"citi\", \"woman\", \"rt\", \"presented\", \"i\", \"time\", \"100\", \"honoree\", \"time100next\", \"first\", \"spent\", \"paycheck\", \"itsaboutt\", \"path\", \"net\", \"electrifying\", \"darwinism\", \"zero\", \"carbon\", \"iii\", \"world\", \"corporation\", \"senior\", \"barrier\", \"lgbt\", \"remove\", \"represent\", \"10\", \"next\", \"cio\", \"others\", \"inspired\", \"celebrated\", \"tradition\", \"marielle\", \"presented\", \"bridging\", \"new\", \"change\", \"the\", \"rt\", \"make\", \"report\", \"gps\", \"energy\", \"citi\", \"leader\", \"itsabouttime\", \"year\", \"he\", \"named\", \"meet\", \"set\", \"old\", \"jordan\", \"refugee\", \"jood\", \"hair\", \"salon\", \"barber\", \"son\", \"tarek\", \"three\", \"dad\", \"on\", \"1st\", \"become\", \"responsible\", \"announce\", \"major\", \"principle\", \"signatory\", \"pay\", \"getting\", \"equity\", \"discussed\", \"representation\", \"goal\", \"thefutureofdoing\", \"bank\", \"proud\", \"rt\", \"u\", \"citi\", \"woman\", \"we\", \"banking\", \"e\"], \"Total\": [400.0, 383.0, 381.0, 381.0, 436.0, 469.0, 323.0, 323.0, 320.0, 318.0, 199.0, 187.0, 179.0, 178.0, 178.0, 282.0, 267.0, 166.0, 160.0, 266.0, 265.0, 159.0, 158.0, 158.0, 154.0, 154.0, 154.0, 251.0, 251.0, 251.0, 282.9894104003906, 266.07183837890625, 265.2825012207031, 251.97216796875, 251.97207641601562, 251.97210693359375, 220.34149169921875, 197.25489807128906, 186.63973999023438, 185.36660766601562, 179.77651977539062, 179.77651977539062, 179.7765350341797, 179.13929748535156, 179.13925170898438, 155.20834350585938, 139.71217346191406, 138.36480712890625, 136.5254364013672, 134.6144256591797, 135.1785125732422, 133.33953857421875, 132.0654296875, 132.06544494628906, 132.0654296875, 104.50790405273438, 103.2337417602539, 103.16123962402344, 103.19136047363281, 101.32186126708984, 141.99276733398438, 1948.705810546875, 320.6538391113281, 229.02093505859375, 559.2518920898438, 377.11895751953125, 267.64666748046875, 199.34803771972656, 187.4014434814453, 179.1051788330078, 178.1093292236328, 178.10939025878906, 160.9043731689453, 159.4668731689453, 158.52734375, 158.5272216796875, 154.102294921875, 154.10231018066406, 154.10231018066406, 166.9173583984375, 79.03678131103516, 78.53878021240234, 76.60334014892578, 76.60334014892578, 76.60334014892578, 76.60334014892578, 52.201629638671875, 43.97368240356445, 39.953983306884766, 37.66957473754883, 37.01180648803711, 34.02397537231445, 30.15313148498535, 27.832427978515625, 26.05699348449707, 26.05699348449707, 24.121564865112305, 175.5911102294922, 63.369327545166016, 60.34186553955078, 377.11895751953125, 65.68476867675781, 559.2518920898438, 102.87405395507812, 1948.705810546875, 469.1645812988281, 320.6538391113281, 400.3017578125, 383.7942199707031, 381.6864318847656, 381.6863708496094, 323.90753173828125, 323.1509094238281, 320.0089111328125, 318.6172180175781, 48.0732421875, 47.715187072753906, 47.715187072753906, 47.715187072753906, 47.715187072753906, 47.71519088745117, 47.715187072753906, 22.988584518432617, 10.762715339660645, 9.37092399597168, 9.010841369628906, 9.010841369628906, 9.010841369628906, 9.010841369628906, 6.545901775360107, 436.443603515625, 5.454260349273682, 5.467521667480469, 4.477407932281494, 4.477407455444336, 4.477407932281494, 4.477407932281494, 469.1645812988281, 4.477407932281494, 69.6700210571289, 21.846803665161133, 91.8810043334961, 1948.705810546875, 18.044784545898438, 136.82330322265625, 133.96446228027344, 164.76959228515625, 559.2518920898438, 15.464590072631836, 60.34186553955078, 107.9918212890625, 94.91581726074219, 93.28260803222656, 92.14955139160156, 89.95128631591797, 89.38557434082031, 86.62104797363281, 86.62101745605469, 86.0552978515625, 85.4895248413086, 85.4895248413086, 85.4895248413086, 85.4895248413086, 85.4895248413086, 85.4895248413086, 85.4895248413086, 40.9272346496582, 37.91921615600586, 36.7235221862793, 36.72348403930664, 36.78764343261719, 35.090091705322266, 34.52431106567383, 34.524322509765625, 35.3342399597168, 32.068302154541016, 30.933748245239258, 28.7374267578125, 28.17161750793457, 28.17161750793457, 28.171619415283203, 122.13716125488281, 267.64666748046875, 1948.705810546875, 95.84529113769531, 559.2518920898438, 102.87405395507812, 229.02093505859375, 145.30743408203125, 53.97895050048828], \"loglift\": [30.0, 29.0, 28.0, 27.0, 26.0, 25.0, 24.0, 23.0, 22.0, 21.0, 20.0, 19.0, 18.0, 17.0, 16.0, 15.0, 14.0, 13.0, 12.0, 11.0, 10.0, 9.0, 8.0, 7.0, 6.0, 5.0, 4.0, 3.0, 2.0, 1.0, 0.8783000111579895, 0.8780999779701233, 0.8780999779701233, 0.878000020980835, 0.878000020980835, 0.878000020980835, 0.8776000142097473, 0.8772000074386597, 0.8770999908447266, 0.8770999908447266, 0.8769999742507935, 0.8769999742507935, 0.8769999742507935, 0.8769999742507935, 0.8769999742507935, 0.8763999938964844, 0.8759999871253967, 0.8758999705314636, 0.8758999705314636, 0.8758000135421753, 0.8758000135421753, 0.8758000135421753, 0.8756999969482422, 0.8756999969482422, 0.8756999969482422, 0.8744999766349792, 0.8744000196456909, 0.8744000196456909, 0.8744000196456909, 0.8743000030517578, 0.8381999731063843, 0.24300000071525574, 0.6252999901771545, 0.6819000244140625, 0.07249999791383743, 0.21739999949932098, 0.2831000089645386, 1.4313000440597534, 1.430999994277954, 1.430899977684021, 1.430799961090088, 1.430799961090088, 1.4306000471115112, 1.4305000305175781, 1.4305000305175781, 1.4305000305175781, 1.430400013923645, 1.430400013923645, 1.430400013923645, 1.4297000169754028, 1.4261000156402588, 1.4261000156402588, 1.4258999824523926, 1.4258999824523926, 1.4258999824523926, 1.4258999824523926, 1.4212000370025635, 1.4191999435424805, 1.417099952697754, 1.416599988937378, 1.416100025177002, 1.4146000146865845, 1.4119999408721924, 1.4097000360488892, 1.4083000421524048, 1.4083000421524048, 1.4062000513076782, 1.3834999799728394, 1.3044999837875366, 1.2101999521255493, 0.708299994468689, 1.174299955368042, 0.3718000054359436, 0.9549999833106995, -0.4056999981403351, -0.2669999897480011, -0.227400004863739, 1.6842000484466553, 1.6842000484466553, 1.6841000318527222, 1.6841000318527222, 1.6837999820709229, 1.6837999820709229, 1.6837999820709229, 1.6837999820709229, 1.6705000400543213, 1.6704000234603882, 1.6704000234603882, 1.6704000234603882, 1.6704000234603882, 1.6704000234603882, 1.6704000234603882, 1.6507999897003174, 1.6138999462127686, 1.6026999950408936, 1.6002000570297241, 1.6002000570297241, 1.6002000570297241, 1.6002000570297241, 1.5652999877929688, 1.5625, 1.5210000276565552, 1.5119999647140503, 1.5049999952316284, 1.5049999952316284, 1.5049999952316284, 1.5049999952316284, 1.4833999872207642, 1.5049999952316284, 1.4710999727249146, 1.4404000043869019, 1.1656999588012695, 0.1873999983072281, 1.2458000183105469, 0.6421999931335449, 0.6392999887466431, 0.4320000112056732, -0.6797000169754028, 1.177899956703186, 0.03840000182390213, 1.8140000104904175, 1.8133000135421753, 1.813099980354309, 1.812999963760376, 1.8128999471664429, 1.8128000497817993, 1.812600016593933, 1.812600016593933, 1.812600016593933, 1.8125, 1.8125, 1.8125, 1.8125, 1.8125, 1.8125, 1.8125, 1.8036999702453613, 1.8027000427246094, 1.802299976348877, 1.802299976348877, 1.8021999597549438, 1.8013999462127686, 1.8011000156402588, 1.8011000156402588, 1.8011000156402588, 1.7994999885559082, 1.7985999584197998, 1.7970000505447388, 1.7965999841690063, 1.7965999841690063, 1.7965999841690063, 1.3312000036239624, 1.017899990081787, -0.5964999794960022, 1.0324000120162964, -0.34310001134872437, 0.8427000045776367, 0.0966000035405159, 0.4535999894142151, 1.3896000385284424], \"logprob\": [30.0, 29.0, 28.0, 27.0, 26.0, 25.0, 24.0, 23.0, 22.0, 21.0, 20.0, 19.0, 18.0, 17.0, 16.0, 15.0, 14.0, 13.0, 12.0, 11.0, 10.0, 9.0, 8.0, 7.0, 6.0, 5.0, 4.0, 3.0, 2.0, 1.0, -3.780900001525879, -3.8427000045776367, -3.8457000255584717, -3.8973000049591064, -3.8973000049591064, -3.8973000049591064, -4.031799793243408, -4.142899990081787, -4.198299884796143, -4.2052001953125, -4.235899925231934, -4.235899925231934, -4.235899925231934, -4.2393999099731445, -4.2393999099731445, -4.383399963378906, -4.488999843597412, -4.498799800872803, -4.512199878692627, -4.526299953460693, -4.522200107574463, -4.535900115966797, -4.545499801635742, -4.545499801635742, -4.545499801635742, -4.780799865722656, -4.7932000160217285, -4.793900012969971, -4.793600082397461, -4.811999797821045, -4.5106000900268555, -2.4867000579833984, -3.908900022506714, -4.188899993896484, -3.9054999351501465, -4.154600143432617, -4.43179988861084, -3.578200101852417, -3.6403000354766846, -3.685699939727783, -3.6912999153137207, -3.6912999153137207, -3.7932000160217285, -3.8022000789642334, -3.808199882507324, -3.808199882507324, -3.8366000652313232, -3.8366000652313232, -3.8366000652313232, -3.7574000358581543, -4.508500099182129, -4.514900207519531, -4.54010009765625, -4.54010009765625, -4.54010009765625, -4.54010009765625, -4.928299903869629, -5.101799964904785, -5.19980001449585, -5.259200096130371, -5.277200222015381, -5.3628997802734375, -5.486299991607666, -5.568699836730957, -5.636000156402588, -5.636000156402588, -5.7153000831604, -3.7528998851776123, -4.851099967956543, -4.9944000244140625, -3.6637001037597656, -4.945400238037109, -3.6061999797821045, -4.716100215911865, -3.1354000568389893, -4.420599937438965, -4.761600017547607, -2.628200054168701, -2.670300006866455, -2.675800085067749, -2.675800085067749, -2.8403000831604004, -2.8427000045776367, -2.8524999618530273, -2.856800079345703, -4.761300086975098, -4.768899917602539, -4.768899917602539, -4.768899917602539, -4.768899917602539, -4.768899917602539, -4.768899917602539, -5.518799781799316, -6.314599990844727, -6.464300155639648, -6.505899906158447, -6.505899906158447, -6.505899906158447, -6.505899906158447, -6.860400199890137, -2.6633999347686768, -7.087200164794922, -7.093800067901611, -7.30049991607666, -7.30049991607666, -7.30049991607666, -7.30049991607666, -2.6702001094818115, -7.30049991607666, -4.589700222015381, -5.780200004577637, -4.6184000968933105, -2.54229998588562, -6.165900230407715, -4.74370002746582, -4.7677001953125, -4.76800012588501, -4.657700061798096, -6.3881001472473145, -6.166100025177002, -3.808500051498413, -3.9382998943328857, -3.9558000564575195, -3.9681999683380127, -3.9923999309539795, -3.998800039291382, -4.030399799346924, -4.030399799346924, -4.0370001792907715, -4.043700218200684, -4.043700218200684, -4.043700218200684, -4.043700218200684, -4.043700218200684, -4.043700218200684, -4.043700218200684, -4.789000034332275, -4.866399765014648, -4.898900032043457, -4.898900032043457, -4.897299766540527, -4.945199966430664, -4.9618000984191895, -4.9618000984191895, -4.938600063323975, -5.037199974060059, -5.07420015335083, -5.1493000984191895, -5.1697001457214355, -5.1697001457214355, -5.1697001457214355, -4.1682000160217285, -3.697000026702881, -3.326200008392334, -4.709400177001953, -4.321100234985352, -4.828400135040283, -4.774199962615967, -4.872099876403809, -4.926400184631348]}, \"token.table\": {\"Topic\": [3, 3, 1, 4, 2, 2, 1, 1, 2, 2, 2, 4, 1, 1, 2, 4, 1, 4, 4, 3, 4, 1, 2, 3, 1, 3, 2, 3, 2, 1, 2, 3, 3, 1, 2, 3, 4, 1, 1, 1, 1, 2, 1, 1, 3, 4, 3, 1, 4, 1, 4, 1, 3, 1, 3, 1, 2, 4, 1, 1, 2, 3, 2, 1, 2, 4, 1, 2, 4, 1, 3, 2, 4, 4, 2, 2, 3, 2, 1, 2, 1, 2, 4, 3, 2, 2, 3, 3, 2, 3, 4, 4, 1, 2, 3, 3, 1, 2, 4, 2, 3, 4, 3, 2, 4, 1, 2, 2, 4, 3, 2, 3, 1, 3, 2, 4, 4, 1, 2, 3, 3, 4, 3, 2, 4, 2, 3, 4, 1, 4, 1, 4, 3, 1, 3, 3, 4, 2, 4, 1, 2, 3, 4, 4, 2, 3, 1, 4, 2, 4, 4, 3, 1, 2, 1, 1, 4, 1, 1, 2, 3, 4, 1, 4, 1, 3, 3, 2, 2, 3, 1, 1, 2, 4, 1, 4, 2, 2, 4, 1, 3, 4, 3], \"Freq\": [0.9166040420532227, 0.9979305863380432, 0.9961420297622681, 0.9757585525512695, 0.9594353437423706, 0.9594353437423706, 0.9984501600265503, 0.9984369874000549, 0.9945040941238403, 0.9921238422393799, 0.998254120349884, 0.9785894751548767, 0.9961513876914978, 0.2947506010532379, 0.09006267786026001, 0.6140637397766113, 0.7432517409324646, 0.25463253259658813, 0.994273841381073, 0.8878194093704224, 0.9802981019020081, 0.9956806302070618, 0.961757481098175, 0.8933740258216858, 0.9986794590950012, 0.9850112795829773, 0.9966742396354675, 0.8933741450309753, 0.9699043035507202, 0.04577328637242317, 0.13731986284255981, 0.7781458497047424, 0.916714608669281, 0.4452376663684845, 0.3451038897037506, 0.09298136085271835, 0.11443859338760376, 0.9954356551170349, 0.9949025511741638, 0.9987077713012695, 0.996141791343689, 0.972662627696991, 0.9980222582817078, 0.9977357983589172, 0.9291335344314575, 0.994273841381073, 0.9850113391876221, 0.9965037107467651, 0.9743391275405884, 0.3519890606403351, 0.6484009027481079, 0.9919325709342957, 0.9850113391876221, 0.710082471370697, 0.2852468192577362, 0.995680570602417, 0.976980984210968, 0.9698145985603333, 0.9956806302070618, 0.9974535703659058, 0.9778575897216797, 0.9971981644630432, 0.993139922618866, 0.957795262336731, 0.035213060677051544, 0.9666866660118103, 0.5144265294075012, 0.48260635137557983, 0.993908166885376, 0.6419612765312195, 0.3508393168449402, 0.9928469061851501, 0.994273841381073, 0.9903512597084045, 0.9978578686714172, 0.9822250604629517, 0.9982016086578369, 0.9937716126441956, 0.22836343944072723, 0.7764357328414917, 0.7734197378158569, 0.19023630023002625, 0.0343049056828022, 0.9850113391876221, 0.9928469657897949, 0.9700914621353149, 0.8933740258216858, 0.9980628490447998, 0.7954676151275635, 0.19886690378189087, 0.9877369999885559, 0.9928302764892578, 0.9959716200828552, 0.387983113527298, 0.5819746851921082, 0.8878194093704224, 0.9992226362228394, 0.9966734647750854, 0.9689344763755798, 0.2216707020998001, 0.6650121212005615, 0.16625303030014038, 0.8933740258216858, 0.9761229753494263, 0.9875251650810242, 0.9973634481430054, 0.9970722794532776, 0.9535036683082581, 0.9969704151153564, 0.9850113391876221, 0.1865938901901245, 0.8037890791893005, 0.11456234008073807, 0.8844212293624878, 0.9921238422393799, 0.995686411857605, 0.9773443341255188, 0.11046353727579117, 0.8837082982063293, 0.9144911170005798, 0.9776748418807983, 0.990540623664856, 0.9968472123146057, 0.9510732293128967, 0.04556039348244667, 0.1833045482635498, 0.816344678401947, 0.9848132729530334, 0.5492315888404846, 0.44835230708122253, 0.995140016078949, 0.9928306341171265, 0.8878194093704224, 0.6431652903556824, 0.3508174419403076, 0.8878194093704224, 0.993908166885376, 0.9868822693824768, 0.9802991151809692, 0.5285559296607971, 0.15856677293777466, 0.22322507202625275, 0.08929003030061722, 0.994273841381073, 0.9938294291496277, 0.9604175686836243, 0.9989351034164429, 0.9894244074821472, 0.994379460811615, 0.9848129749298096, 0.994273841381073, 0.9964385032653809, 0.9961421489715576, 0.9928469061851501, 0.9986576437950134, 0.9968233704566956, 0.994273841381073, 0.9965723156929016, 0.15237098932266235, 0.2503237724304199, 0.5986003279685974, 0.9939080476760864, 0.9919324517250061, 0.994273841381073, 0.9919325709342957, 0.9992461800575256, 0.9982017278671265, 0.9921238422393799, 0.9921238422393799, 0.8933740258216858, 0.9992223978042603, 0.47994011640548706, 0.06260088086128235, 0.45907315611839294, 0.8208856582641602, 0.17902293801307678, 0.9937713146209717, 0.6221199631690979, 0.379104346036911, 0.998145580291748, 0.956996738910675, 0.9908157587051392, 0.9850113391876221], \"Term\": [\"10\", \"100\", \"127\", \"1st\", \"67\", \"80\", \"a\", \"ad\", \"advice\", \"air\", \"amp\", \"announce\", \"award\", \"bank\", \"bank\", \"bank\", \"banking\", \"banking\", \"barber\", \"barrier\", \"become\", \"betting\", \"bracket\", \"bridging\", \"bring\", \"carbon\", \"career\", \"celebrated\", \"champion\", \"change\", \"change\", \"change\", \"cio\", \"citi\", \"citi\", \"citi\", \"citi\", \"commitment\", \"community\", \"company\", \"concert\", \"congratulation\", \"consumer\", \"continue\", \"corporation\", \"dad\", \"darwinism\", \"demand\", \"discussed\", \"e\", \"e\", \"earn\", \"electrifying\", \"energy\", \"energy\", \"episode\", \"equal\", \"equity\", \"evolve\", \"family\", \"final\", \"first\", \"force\", \"foundation\", \"foundation\", \"getting\", \"global\", \"global\", \"goal\", \"gps\", \"gps\", \"grow\", \"hair\", \"he\", \"head\", \"hoftipoff\", \"honoree\", \"hr\", \"ht\", \"ht\", \"i\", \"i\", \"i\", \"iii\", \"important\", \"in\", \"inspired\", \"itsaboutt\", \"itsabouttime\", \"itsabouttime\", \"jood\", \"jordan\", \"latest\", \"leader\", \"leader\", \"lgbt\", \"listen\", \"looking\", \"major\", \"make\", \"make\", \"make\", \"marielle\", \"mccormackmp\", \"meet\", \"military\", \"more\", \"nais\", \"named\", \"net\", \"new\", \"new\", \"next\", \"next\", \"off\", \"old\", \"on\", \"opportunity\", \"opportunity\", \"others\", \"path\", \"pay\", \"paycheck\", \"people\", \"people\", \"presented\", \"presented\", \"principle\", \"proud\", \"proud\", \"put\", \"refugee\", \"remove\", \"report\", \"report\", \"represent\", \"representation\", \"reserve\", \"responsible\", \"rt\", \"rt\", \"rt\", \"rt\", \"salon\", \"sara\", \"senior\", \"series\", \"set\", \"share\", \"signatory\", \"son\", \"spent\", \"spotted\", \"succeed\", \"support\", \"sure\", \"tarek\", \"technology\", \"the\", \"the\", \"the\", \"thefutureofdoing\", \"them\", \"three\", \"through\", \"time\", \"time100next\", \"tip\", \"tournament\", \"tradition\", \"transla\", \"u\", \"u\", \"u\", \"we\", \"we\", \"wechter\", \"woman\", \"woman\", \"work\", \"world\", \"year\", \"zero\"]}, \"R\": 30, \"lambda.step\": 0.01, \"plot.opts\": {\"xlab\": \"PC1\", \"ylab\": \"PC2\"}, \"topic.order\": [1, 2, 3, 4]};\n",
       "\n",
       "function LDAvis_load_lib(url, callback){\n",
       "  var s = document.createElement('script');\n",
       "  s.src = url;\n",
       "  s.async = true;\n",
       "  s.onreadystatechange = s.onload = callback;\n",
       "  s.onerror = function(){console.warn(\"failed to load library \" + url);};\n",
       "  document.getElementsByTagName(\"head\")[0].appendChild(s);\n",
       "}\n",
       "\n",
       "if(typeof(LDAvis) !== \"undefined\"){\n",
       "   // already loaded: just create the visualization\n",
       "   !function(LDAvis){\n",
       "       new LDAvis(\"#\" + \"ldavis_el15331122161465923026483648\", ldavis_el15331122161465923026483648_data);\n",
       "   }(LDAvis);\n",
       "}else if(typeof define === \"function\" && define.amd){\n",
       "   // require.js is available: use it to load d3/LDAvis\n",
       "   require.config({paths: {d3: \"https://cdnjs.cloudflare.com/ajax/libs/d3/3.5.5/d3.min\"}});\n",
       "   require([\"d3\"], function(d3){\n",
       "      window.d3 = d3;\n",
       "      LDAvis_load_lib(\"https://cdn.rawgit.com/bmabey/pyLDAvis/files/ldavis.v1.0.0.js\", function(){\n",
       "        new LDAvis(\"#\" + \"ldavis_el15331122161465923026483648\", ldavis_el15331122161465923026483648_data);\n",
       "      });\n",
       "    });\n",
       "}else{\n",
       "    // require.js not available: dynamically load d3 & LDAvis\n",
       "    LDAvis_load_lib(\"https://cdnjs.cloudflare.com/ajax/libs/d3/3.5.5/d3.min.js\", function(){\n",
       "         LDAvis_load_lib(\"https://cdn.rawgit.com/bmabey/pyLDAvis/files/ldavis.v1.0.0.js\", function(){\n",
       "                 new LDAvis(\"#\" + \"ldavis_el15331122161465923026483648\", ldavis_el15331122161465923026483648_data);\n",
       "            })\n",
       "         });\n",
       "}\n",
       "</script>"
      ],
      "text/plain": [
       "<IPython.core.display.HTML object>"
      ]
     },
     "execution_count": 57,
     "metadata": {},
     "output_type": "execute_result"
    }
   ],
   "source": [
    "dictionary = gensim.corpora.Dictionary.load('dictionary.gensim')\n",
    "corpus = pickle.load(open('corpus.pkl', 'rb'))\n",
    "lda = gensim.models.ldamodel.LdaModel.load('model3.gensim')\n",
    "import pyLDAvis.gensim\n",
    "lda_display = pyLDAvis.gensim.prepare(lda, corpus, dictionary, sort_topics=False)\n",
    "pyLDAvis.display(lda_display)\n"
   ]
  },
  {
   "cell_type": "markdown",
   "metadata": {},
   "source": [
    "<h4>TFIDF</h4>"
   ]
  },
  {
   "cell_type": "code",
   "execution_count": 58,
   "metadata": {},
   "outputs": [],
   "source": [
    "from sklearn.feature_extraction.text import TfidfVectorizer"
   ]
  },
  {
   "cell_type": "code",
   "execution_count": 59,
   "metadata": {},
   "outputs": [],
   "source": [
    "vectorizer = TfidfVectorizer()\n",
    "vectors = vectorizer.fit_transform(alltwt)\n",
    "feature_names = vectorizer.get_feature_names()\n",
    "dense = vectors.todense()\n",
    "denselist = dense.tolist()\n",
    "df = pd.DataFrame(denselist, columns=feature_names)"
   ]
  },
  {
   "cell_type": "code",
   "execution_count": 60,
   "metadata": {},
   "outputs": [],
   "source": [
    "df.to_csv('tfidf.csv')"
   ]
  },
  {
   "cell_type": "code",
   "execution_count": null,
   "metadata": {},
   "outputs": [],
   "source": []
  }
 ],
 "metadata": {
  "kernelspec": {
   "display_name": "Python 3",
   "language": "python",
   "name": "python3"
  },
  "language_info": {
   "codemirror_mode": {
    "name": "ipython",
    "version": 3
   },
   "file_extension": ".py",
   "mimetype": "text/x-python",
   "name": "python",
   "nbconvert_exporter": "python",
   "pygments_lexer": "ipython3",
   "version": "3.7.1"
  }
 },
 "nbformat": 4,
 "nbformat_minor": 2
}
