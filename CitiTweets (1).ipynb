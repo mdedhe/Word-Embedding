{
 "cells": [
  {
   "cell_type": "code",
   "execution_count": 1,
   "metadata": {},
   "outputs": [],
   "source": [
    "#similar word extraction on the basis of word "
   ]
  },
  {
   "cell_type": "code",
   "execution_count": 72,
   "metadata": {},
   "outputs": [
    {
     "name": "stdout",
     "output_type": "stream",
     "text": [
      "Collecting fasttext\n",
      "\u001b[?25l  Downloading https://files.pythonhosted.org/packages/10/61/2e01f1397ec533756c1d893c22d9d5ed3fce3a6e4af1976e0d86bb13ea97/fasttext-0.9.1.tar.gz (57kB)\n",
      "\u001b[K     |████████████████████████████████| 61kB 1.4MB/s \n",
      "\u001b[?25hRequirement already satisfied: pybind11>=2.2 in ./anaconda3/lib/python3.7/site-packages (from fasttext) (2.4.3)\n",
      "Requirement already satisfied: setuptools>=0.7.0 in ./anaconda3/lib/python3.7/site-packages (from fasttext) (40.6.3)\n",
      "Requirement already satisfied: numpy in ./anaconda3/lib/python3.7/site-packages (from fasttext) (1.15.4)\n",
      "Building wheels for collected packages: fasttext\n",
      "  Building wheel for fasttext (setup.py) ... \u001b[?25ldone\n",
      "\u001b[?25h  Created wheel for fasttext: filename=fasttext-0.9.1-cp37-cp37m-macosx_10_7_x86_64.whl size=270912 sha256=e87dc865da2a2ad4487bd9e1d7e10e037afd025ead3ea97c92dd7a6fce3e69c3\n",
      "  Stored in directory: /Users/mohitdedhe/Library/Caches/pip/wheels/9f/f0/04/caa82c912aee89ce76358ff954f3f0729b7577c8ff23a292e3\n",
      "Successfully built fasttext\n",
      "Installing collected packages: fasttext\n",
      "Successfully installed fasttext-0.9.1\n"
     ]
    }
   ],
   "source": [
    "#!pip install tsne\n",
    "#!easy_install tsne\n",
    "#!pip install git+https://github.com/danielfrg/tsne.git\n",
    "!pip install fasttext"
   ]
  },
  {
   "cell_type": "code",
   "execution_count": 105,
   "metadata": {},
   "outputs": [],
   "source": [
    "import os\n",
    "import tweepy as tw\n",
    "import pandas as pd\n",
    "import numpy as np\n",
    "import re, string\n",
    "from tqdm import tqdm\n",
    "from sklearn.decomposition import PCA \n",
    "from sklearn.manifold import TSNE\n",
    "import matplotlib.pyplot as plt\n",
    "import fasttext\n",
    "from gensim.models import FastText"
   ]
  },
  {
   "cell_type": "code",
   "execution_count": 4,
   "metadata": {},
   "outputs": [],
   "source": [
    "consumer_key= 'mxtkW7a8EYHwBd3rMBmWrscda'\n",
    "consumer_secret= 'qMGuky46B5AJddQ8bO4DfrQnUHuaQ18kVa8k7eQE3zBhtr6Jb4'\n",
    "access_token= '3267248131-B27E5BJdErwnN1kDUxTSvDrToYVUnZkbfbkiwmp'\n",
    "access_token_secret= 'jpYfRJ0usnPVg8QurTQiiNzNLjimOobetHNCHT7q3btLc'"
   ]
  },
  {
   "cell_type": "code",
   "execution_count": 5,
   "metadata": {},
   "outputs": [],
   "source": [
    "auth = tw.OAuthHandler(consumer_key, consumer_secret)\n",
    "auth.set_access_token(access_token, access_token_secret)\n",
    "api = tw.API(auth, wait_on_rate_limit=True)"
   ]
  },
  {
   "cell_type": "code",
   "execution_count": 6,
   "metadata": {},
   "outputs": [],
   "source": [
    "# Define the search term and the date_since date as variables\n",
    "search_words = \"@Citi\"\n",
    "date_since = \"2019-11-01\""
   ]
  },
  {
   "cell_type": "code",
   "execution_count": 7,
   "metadata": {},
   "outputs": [],
   "source": [
    "# Collect tweets\n",
    "tweets = tw.Cursor(api.search,\n",
    "              q=search_words,\n",
    "              lang=\"en\",\n",
    "              since=date_since).items(3000)\n"
   ]
  },
  {
   "cell_type": "code",
   "execution_count": null,
   "metadata": {},
   "outputs": [],
   "source": [
    "data=[]\n",
    "for s in tqdm(tweets):\n",
    "    data.append(s.text.encode('utf8') )"
   ]
  },
  {
   "cell_type": "code",
   "execution_count": 9,
   "metadata": {},
   "outputs": [
    {
     "data": {
      "text/plain": [
       "2692"
      ]
     },
     "execution_count": 9,
     "metadata": {},
     "output_type": "execute_result"
    }
   ],
   "source": [
    "len(data)"
   ]
  },
  {
   "cell_type": "code",
   "execution_count": 10,
   "metadata": {},
   "outputs": [],
   "source": [
    "alltwt=[]\n",
    "for i in data:\n",
    "    x =str(i, 'utf-8')\n",
    "    alltwt.append(' '.join(re.sub(\"(@[A-Za-z0-9]+)|([^0-9A-Za-z \\t])|(\\w+:\\/\\/\\S+)\",\" \",x).split()))"
   ]
  },
  {
   "cell_type": "code",
   "execution_count": 11,
   "metadata": {},
   "outputs": [],
   "source": [
    "#remove the stopwords\n",
    "from nltk.corpus import stopwords\n",
    "stop_words = set(stopwords.words('english')) "
   ]
  },
  {
   "cell_type": "code",
   "execution_count": 12,
   "metadata": {},
   "outputs": [
    {
     "name": "stderr",
     "output_type": "stream",
     "text": [
      "\n",
      "  0%|          | 0/2692 [00:00<?, ?it/s]\u001b[A\n",
      "  0%|          | 1/2692 [00:02<1:30:26,  2.02s/it]\u001b[A\n",
      "100%|██████████| 2692/2692 [00:02<00:00, 1221.53it/s]\n"
     ]
    }
   ],
   "source": [
    "from nltk.stem import WordNetLemmatizer\n",
    "lemmatizer = WordNetLemmatizer()\n",
    "out_arr=[]\n",
    "for twt in tqdm(alltwt):\n",
    "    data = twt.split()\n",
    "    inner_arr=[]\n",
    "    for i in data:\n",
    "        if i not in stop_words:\n",
    "            inner_arr.append((lemmatizer.lemmatize(i.lower())))\n",
    "    out_arr.append(inner_arr)"
   ]
  },
  {
   "cell_type": "code",
   "execution_count": null,
   "metadata": {},
   "outputs": [],
   "source": []
  },
  {
   "cell_type": "code",
   "execution_count": 13,
   "metadata": {},
   "outputs": [],
   "source": [
    "from gensim.models import Word2Vec\n",
    "import gensim"
   ]
  },
  {
   "cell_type": "code",
   "execution_count": 14,
   "metadata": {},
   "outputs": [],
   "source": [
    "model = gensim.models.Word2Vec(out_arr, min_count=1,size=200,window=2,iter=20,workers=2)"
   ]
  },
  {
   "cell_type": "code",
   "execution_count": null,
   "metadata": {},
   "outputs": [],
   "source": []
  },
  {
   "cell_type": "code",
   "execution_count": 15,
   "metadata": {},
   "outputs": [
    {
     "data": {
      "text/plain": [
       "[('customer', 0.9311262369155884),\n",
       " ('argued', 0.906105101108551),\n",
       " ('within', 0.905686616897583),\n",
       " ('provided', 0.8962585926055908),\n",
       " ('ever', 0.8921598196029663),\n",
       " ('innovating', 0.8910062313079834),\n",
       " ('internet', 0.8888826370239258),\n",
       " ('bankstoavoid', 0.8860342502593994),\n",
       " ('aa', 0.8858636617660522),\n",
       " ('financial', 0.8856110572814941),\n",
       " ('hello', 0.8824893832206726),\n",
       " ('direct', 0.8819641470909119),\n",
       " ('regtech', 0.8811900615692139),\n",
       " ('leave', 0.8695508241653442),\n",
       " ('hell', 0.8670171499252319),\n",
       " ('mine', 0.8666542768478394),\n",
       " ('experienced', 0.8647803068161011),\n",
       " ('hateeeee', 0.8631205558776855),\n",
       " ('reward', 0.8606590628623962),\n",
       " ('november', 0.8597264289855957)]"
      ]
     },
     "execution_count": 15,
     "metadata": {},
     "output_type": "execute_result"
    }
   ],
   "source": [
    "word = \"service\"\n",
    "model.wv.most_similar(positive=word, topn=20)"
   ]
  },
  {
   "cell_type": "code",
   "execution_count": 16,
   "metadata": {},
   "outputs": [
    {
     "data": {
      "text/plain": [
       "[('hello', 0.9638131260871887),\n",
       " ('within', 0.9626621007919312),\n",
       " ('disappointed', 0.9606294631958008),\n",
       " ('ever', 0.9594503045082092),\n",
       " ('hell', 0.9593594074249268),\n",
       " ('statement', 0.9574612379074097),\n",
       " ('november', 0.9571257829666138),\n",
       " ('experienced', 0.9554873704910278),\n",
       " ('number', 0.950919508934021),\n",
       " ('closed', 0.9498679041862488),\n",
       " ('recieved', 0.947202205657959),\n",
       " ('money', 0.9461343288421631),\n",
       " ('calling', 0.945974588394165),\n",
       " ('owned', 0.9456969499588013),\n",
       " ('called', 0.9456478357315063),\n",
       " ('but', 0.9443836212158203),\n",
       " ('spoken', 0.944248378276825),\n",
       " ('locked', 0.9434773921966553),\n",
       " ('applied', 0.9432414770126343),\n",
       " ('excellent', 0.9429590702056885)]"
      ]
     },
     "execution_count": 16,
     "metadata": {},
     "output_type": "execute_result"
    }
   ],
   "source": [
    "word = \"customer\"\n",
    "model.wv.most_similar(positive=word, topn=20)"
   ]
  },
  {
   "cell_type": "code",
   "execution_count": 17,
   "metadata": {},
   "outputs": [
    {
     "data": {
      "text/plain": [
       "0.9447944"
      ]
     },
     "execution_count": 17,
     "metadata": {},
     "output_type": "execute_result"
    }
   ],
   "source": [
    "model.wv.similarity(w1=\"good\", w2=\"bad\")"
   ]
  },
  {
   "cell_type": "code",
   "execution_count": 27,
   "metadata": {},
   "outputs": [
    {
     "name": "stderr",
     "output_type": "stream",
     "text": [
      "/Users/mohitdedhe/anaconda3/lib/python3.7/site-packages/ipykernel_launcher.py:2: DeprecationWarning: Call to deprecated `similar_by_word` (Method will be removed in 4.0.0, use self.wv.similar_by_word() instead).\n",
      "  \n"
     ]
    },
    {
     "data": {
      "text/plain": [
       "[('customer', 0.9311262369155884),\n",
       " ('argued', 0.906105101108551),\n",
       " ('within', 0.905686616897583),\n",
       " ('provided', 0.8962585926055908),\n",
       " ('ever', 0.8921598196029663),\n",
       " ('innovating', 0.8910062313079834),\n",
       " ('internet', 0.8888826370239258),\n",
       " ('bankstoavoid', 0.8860342502593994),\n",
       " ('aa', 0.8858636617660522),\n",
       " ('financial', 0.8856110572814941)]"
      ]
     },
     "execution_count": 27,
     "metadata": {},
     "output_type": "execute_result"
    }
   ],
   "source": [
    "# We will also need to get the words closest to a word\n",
    "model.similar_by_word('service')"
   ]
  },
  {
   "cell_type": "code",
   "execution_count": 38,
   "metadata": {},
   "outputs": [],
   "source": [
    "#print(model['service']) "
   ]
  },
  {
   "cell_type": "code",
   "execution_count": 63,
   "metadata": {},
   "outputs": [],
   "source": [
    "def display_closestwords_tsnescatterplot(model, word):\n",
    "    \n",
    "    arr = np.empty((0,200), dtype='f')\n",
    "    word_labels = [word]\n",
    "\n",
    "    # get close words\n",
    "    close_words = model.similar_by_word(word)\n",
    "    \n",
    "    # add the vector for each of the closest words to the array\n",
    "    arr = np.append(arr, np.array([model[word]]), axis=0)\n",
    "    for wrd_score in close_words:\n",
    "        wrd_vector = model[wrd_score[0]]\n",
    "        word_labels.append(wrd_score[0])\n",
    "        arr = np.append(arr, np.array([wrd_vector]), axis=0)\n",
    "        \n",
    "    # find tsne coords for 2 dimensions\n",
    "    tsne = TSNE(n_components=2, random_state=0)\n",
    "    np.set_printoptions(suppress=True)\n",
    "    Y = tsne.fit_transform(arr)\n",
    "\n",
    "    x_coords = Y[:, 0]\n",
    "    y_coords = Y[:, 1]\n",
    "    # display scatter plot\n",
    "    plt.scatter(x_coords, y_coords)\n",
    "\n",
    "    for label, x, y in zip(word_labels, x_coords, y_coords):\n",
    "        plt.annotate(label, xy=(x, y), xytext=(0, 0), textcoords='offset points')\n",
    "    plt.xlim(x_coords.min()+0.000005, x_coords.max()+0.000005)\n",
    "    plt.ylim(y_coords.min()+0.000005, y_coords.max()+0.000005)\n",
    "    plt.show()"
   ]
  },
  {
   "cell_type": "code",
   "execution_count": 71,
   "metadata": {},
   "outputs": [
    {
     "name": "stderr",
     "output_type": "stream",
     "text": [
      "/Users/mohitdedhe/anaconda3/lib/python3.7/site-packages/ipykernel_launcher.py:7: DeprecationWarning: Call to deprecated `similar_by_word` (Method will be removed in 4.0.0, use self.wv.similar_by_word() instead).\n",
      "  import sys\n",
      "/Users/mohitdedhe/anaconda3/lib/python3.7/site-packages/ipykernel_launcher.py:10: DeprecationWarning: Call to deprecated `__getitem__` (Method will be removed in 4.0.0, use self.wv.__getitem__() instead).\n",
      "  # Remove the CWD from sys.path while we load stuff.\n",
      "/Users/mohitdedhe/anaconda3/lib/python3.7/site-packages/ipykernel_launcher.py:12: DeprecationWarning: Call to deprecated `__getitem__` (Method will be removed in 4.0.0, use self.wv.__getitem__() instead).\n",
      "  if sys.path[0] == '':\n",
      "/Users/mohitdedhe/anaconda3/lib/python3.7/site-packages/ipykernel_launcher.py:12: DeprecationWarning: Call to deprecated `__getitem__` (Method will be removed in 4.0.0, use self.wv.__getitem__() instead).\n",
      "  if sys.path[0] == '':\n",
      "/Users/mohitdedhe/anaconda3/lib/python3.7/site-packages/ipykernel_launcher.py:12: DeprecationWarning: Call to deprecated `__getitem__` (Method will be removed in 4.0.0, use self.wv.__getitem__() instead).\n",
      "  if sys.path[0] == '':\n",
      "/Users/mohitdedhe/anaconda3/lib/python3.7/site-packages/ipykernel_launcher.py:12: DeprecationWarning: Call to deprecated `__getitem__` (Method will be removed in 4.0.0, use self.wv.__getitem__() instead).\n",
      "  if sys.path[0] == '':\n",
      "/Users/mohitdedhe/anaconda3/lib/python3.7/site-packages/ipykernel_launcher.py:12: DeprecationWarning: Call to deprecated `__getitem__` (Method will be removed in 4.0.0, use self.wv.__getitem__() instead).\n",
      "  if sys.path[0] == '':\n",
      "/Users/mohitdedhe/anaconda3/lib/python3.7/site-packages/ipykernel_launcher.py:12: DeprecationWarning: Call to deprecated `__getitem__` (Method will be removed in 4.0.0, use self.wv.__getitem__() instead).\n",
      "  if sys.path[0] == '':\n",
      "/Users/mohitdedhe/anaconda3/lib/python3.7/site-packages/ipykernel_launcher.py:12: DeprecationWarning: Call to deprecated `__getitem__` (Method will be removed in 4.0.0, use self.wv.__getitem__() instead).\n",
      "  if sys.path[0] == '':\n",
      "/Users/mohitdedhe/anaconda3/lib/python3.7/site-packages/ipykernel_launcher.py:12: DeprecationWarning: Call to deprecated `__getitem__` (Method will be removed in 4.0.0, use self.wv.__getitem__() instead).\n",
      "  if sys.path[0] == '':\n",
      "/Users/mohitdedhe/anaconda3/lib/python3.7/site-packages/ipykernel_launcher.py:12: DeprecationWarning: Call to deprecated `__getitem__` (Method will be removed in 4.0.0, use self.wv.__getitem__() instead).\n",
      "  if sys.path[0] == '':\n",
      "/Users/mohitdedhe/anaconda3/lib/python3.7/site-packages/ipykernel_launcher.py:12: DeprecationWarning: Call to deprecated `__getitem__` (Method will be removed in 4.0.0, use self.wv.__getitem__() instead).\n",
      "  if sys.path[0] == '':\n"
     ]
    },
    {
     "data": {
      "image/png": "[encoded data removed]",
      "text/plain": [
       "<Figure size 432x288 with 1 Axes>"
      ]
     },
     "metadata": {
      "needs_background": "light"
     },
     "output_type": "display_data"
    }
   ],
   "source": [
    "display_closestwords_tsnescatterplot(model, 'account')"
   ]
  },
  {
   "cell_type": "code",
   "execution_count": 19,
   "metadata": {},
   "outputs": [
    {
     "data": {
      "text/plain": [
       "(0.0,\n",
       " [{'section': 'capital-common-countries',\n",
       "   'correct': [],\n",
       "   'incorrect': [('BEIJING', 'CHINA', 'LONDON', 'ENGLAND'),\n",
       "    ('LONDON', 'ENGLAND', 'BEIJING', 'CHINA')]},\n",
       "  {'section': 'capital-world', 'correct': [], 'incorrect': []},\n",
       "  {'section': 'currency',\n",
       "   'correct': [],\n",
       "   'incorrect': [('BRAZIL', 'REAL', 'USA', 'DOLLAR'),\n",
       "    ('USA', 'DOLLAR', 'BRAZIL', 'REAL')]},\n",
       "  {'section': 'city-in-state', 'correct': [], 'incorrect': []},\n",
       "  {'section': 'family',\n",
       "   'correct': [],\n",
       "   'incorrect': [('FATHER', 'MOTHER', 'HE', 'SHE'),\n",
       "    ('FATHER', 'MOTHER', 'MAN', 'WOMAN'),\n",
       "    ('HE', 'SHE', 'MAN', 'WOMAN'),\n",
       "    ('HE', 'SHE', 'FATHER', 'MOTHER'),\n",
       "    ('MAN', 'WOMAN', 'FATHER', 'MOTHER'),\n",
       "    ('MAN', 'WOMAN', 'HE', 'SHE')]},\n",
       "  {'section': 'gram1-adjective-to-adverb', 'correct': [], 'incorrect': []},\n",
       "  {'section': 'gram2-opposite', 'correct': [], 'incorrect': []},\n",
       "  {'section': 'gram3-comparative',\n",
       "   'correct': [],\n",
       "   'incorrect': [('BAD', 'WORSE', 'BIG', 'BIGGER'),\n",
       "    ('BAD', 'WORSE', 'GOOD', 'BETTER'),\n",
       "    ('BAD', 'WORSE', 'LONG', 'LONGER'),\n",
       "    ('BAD', 'WORSE', 'SMALL', 'SMALLER'),\n",
       "    ('BIG', 'BIGGER', 'GOOD', 'BETTER'),\n",
       "    ('BIG', 'BIGGER', 'LONG', 'LONGER'),\n",
       "    ('BIG', 'BIGGER', 'SMALL', 'SMALLER'),\n",
       "    ('BIG', 'BIGGER', 'BAD', 'WORSE'),\n",
       "    ('GOOD', 'BETTER', 'LONG', 'LONGER'),\n",
       "    ('GOOD', 'BETTER', 'SMALL', 'SMALLER'),\n",
       "    ('GOOD', 'BETTER', 'BAD', 'WORSE'),\n",
       "    ('GOOD', 'BETTER', 'BIG', 'BIGGER'),\n",
       "    ('LONG', 'LONGER', 'SMALL', 'SMALLER'),\n",
       "    ('LONG', 'LONGER', 'BAD', 'WORSE'),\n",
       "    ('LONG', 'LONGER', 'BIG', 'BIGGER'),\n",
       "    ('LONG', 'LONGER', 'GOOD', 'BETTER'),\n",
       "    ('SMALL', 'SMALLER', 'BAD', 'WORSE'),\n",
       "    ('SMALL', 'SMALLER', 'BIG', 'BIGGER'),\n",
       "    ('SMALL', 'SMALLER', 'GOOD', 'BETTER'),\n",
       "    ('SMALL', 'SMALLER', 'LONG', 'LONGER')]},\n",
       "  {'section': 'gram4-superlative',\n",
       "   'correct': [],\n",
       "   'incorrect': [('BAD', 'WORST', 'BIG', 'BIGGEST'),\n",
       "    ('BAD', 'WORST', 'GOOD', 'BEST'),\n",
       "    ('BAD', 'WORST', 'HIGH', 'HIGHEST'),\n",
       "    ('BAD', 'WORST', 'LOW', 'LOWEST'),\n",
       "    ('BIG', 'BIGGEST', 'GOOD', 'BEST'),\n",
       "    ('BIG', 'BIGGEST', 'HIGH', 'HIGHEST'),\n",
       "    ('BIG', 'BIGGEST', 'LOW', 'LOWEST'),\n",
       "    ('BIG', 'BIGGEST', 'BAD', 'WORST'),\n",
       "    ('GOOD', 'BEST', 'HIGH', 'HIGHEST'),\n",
       "    ('GOOD', 'BEST', 'LOW', 'LOWEST'),\n",
       "    ('GOOD', 'BEST', 'BAD', 'WORST'),\n",
       "    ('GOOD', 'BEST', 'BIG', 'BIGGEST'),\n",
       "    ('HIGH', 'HIGHEST', 'LOW', 'LOWEST'),\n",
       "    ('HIGH', 'HIGHEST', 'BAD', 'WORST'),\n",
       "    ('HIGH', 'HIGHEST', 'BIG', 'BIGGEST'),\n",
       "    ('HIGH', 'HIGHEST', 'GOOD', 'BEST'),\n",
       "    ('LOW', 'LOWEST', 'BAD', 'WORST'),\n",
       "    ('LOW', 'LOWEST', 'BIG', 'BIGGEST'),\n",
       "    ('LOW', 'LOWEST', 'GOOD', 'BEST'),\n",
       "    ('LOW', 'LOWEST', 'HIGH', 'HIGHEST')]},\n",
       "  {'section': 'gram5-present-participle',\n",
       "   'correct': [],\n",
       "   'incorrect': [('GO', 'GOING', 'INCREASE', 'INCREASING'),\n",
       "    ('GO', 'GOING', 'LOOK', 'LOOKING'),\n",
       "    ('GO', 'GOING', 'READ', 'READING'),\n",
       "    ('GO', 'GOING', 'RUN', 'RUNNING'),\n",
       "    ('INCREASE', 'INCREASING', 'LOOK', 'LOOKING'),\n",
       "    ('INCREASE', 'INCREASING', 'READ', 'READING'),\n",
       "    ('INCREASE', 'INCREASING', 'RUN', 'RUNNING'),\n",
       "    ('INCREASE', 'INCREASING', 'GO', 'GOING'),\n",
       "    ('LOOK', 'LOOKING', 'READ', 'READING'),\n",
       "    ('LOOK', 'LOOKING', 'RUN', 'RUNNING'),\n",
       "    ('LOOK', 'LOOKING', 'GO', 'GOING'),\n",
       "    ('LOOK', 'LOOKING', 'INCREASE', 'INCREASING'),\n",
       "    ('READ', 'READING', 'RUN', 'RUNNING'),\n",
       "    ('READ', 'READING', 'GO', 'GOING'),\n",
       "    ('READ', 'READING', 'INCREASE', 'INCREASING'),\n",
       "    ('READ', 'READING', 'LOOK', 'LOOKING'),\n",
       "    ('RUN', 'RUNNING', 'GO', 'GOING'),\n",
       "    ('RUN', 'RUNNING', 'INCREASE', 'INCREASING'),\n",
       "    ('RUN', 'RUNNING', 'LOOK', 'LOOKING'),\n",
       "    ('RUN', 'RUNNING', 'READ', 'READING')]},\n",
       "  {'section': 'gram6-nationality-adjective',\n",
       "   'correct': [],\n",
       "   'incorrect': [('AUSTRALIA', 'AUSTRALIAN', 'CHINA', 'CHINESE'),\n",
       "    ('AUSTRALIA', 'AUSTRALIAN', 'GERMANY', 'GERMAN'),\n",
       "    ('CHINA', 'CHINESE', 'GERMANY', 'GERMAN'),\n",
       "    ('CHINA', 'CHINESE', 'AUSTRALIA', 'AUSTRALIAN'),\n",
       "    ('GERMANY', 'GERMAN', 'AUSTRALIA', 'AUSTRALIAN'),\n",
       "    ('GERMANY', 'GERMAN', 'CHINA', 'CHINESE')]},\n",
       "  {'section': 'gram7-past-tense',\n",
       "   'correct': [],\n",
       "   'incorrect': [('GOING', 'WENT', 'INCREASING', 'INCREASED'),\n",
       "    ('GOING', 'WENT', 'READING', 'READ'),\n",
       "    ('GOING', 'WENT', 'RUNNING', 'RAN'),\n",
       "    ('GOING', 'WENT', 'TAKING', 'TOOK'),\n",
       "    ('INCREASING', 'INCREASED', 'READING', 'READ'),\n",
       "    ('INCREASING', 'INCREASED', 'RUNNING', 'RAN'),\n",
       "    ('INCREASING', 'INCREASED', 'TAKING', 'TOOK'),\n",
       "    ('INCREASING', 'INCREASED', 'GOING', 'WENT'),\n",
       "    ('READING', 'READ', 'RUNNING', 'RAN'),\n",
       "    ('READING', 'READ', 'TAKING', 'TOOK'),\n",
       "    ('READING', 'READ', 'GOING', 'WENT'),\n",
       "    ('READING', 'READ', 'INCREASING', 'INCREASED'),\n",
       "    ('RUNNING', 'RAN', 'TAKING', 'TOOK'),\n",
       "    ('RUNNING', 'RAN', 'GOING', 'WENT'),\n",
       "    ('RUNNING', 'RAN', 'INCREASING', 'INCREASED'),\n",
       "    ('RUNNING', 'RAN', 'READING', 'READ'),\n",
       "    ('TAKING', 'TOOK', 'GOING', 'WENT'),\n",
       "    ('TAKING', 'TOOK', 'INCREASING', 'INCREASED'),\n",
       "    ('TAKING', 'TOOK', 'READING', 'READ'),\n",
       "    ('TAKING', 'TOOK', 'RUNNING', 'RAN')]},\n",
       "  {'section': 'gram8-plural', 'correct': [], 'incorrect': []},\n",
       "  {'section': 'gram9-plural-verbs', 'correct': [], 'incorrect': []},\n",
       "  {'section': 'Total accuracy',\n",
       "   'correct': [],\n",
       "   'incorrect': [('BEIJING', 'CHINA', 'LONDON', 'ENGLAND'),\n",
       "    ('LONDON', 'ENGLAND', 'BEIJING', 'CHINA'),\n",
       "    ('BRAZIL', 'REAL', 'USA', 'DOLLAR'),\n",
       "    ('USA', 'DOLLAR', 'BRAZIL', 'REAL'),\n",
       "    ('FATHER', 'MOTHER', 'HE', 'SHE'),\n",
       "    ('FATHER', 'MOTHER', 'MAN', 'WOMAN'),\n",
       "    ('HE', 'SHE', 'MAN', 'WOMAN'),\n",
       "    ('HE', 'SHE', 'FATHER', 'MOTHER'),\n",
       "    ('MAN', 'WOMAN', 'FATHER', 'MOTHER'),\n",
       "    ('MAN', 'WOMAN', 'HE', 'SHE'),\n",
       "    ('BAD', 'WORSE', 'BIG', 'BIGGER'),\n",
       "    ('BAD', 'WORSE', 'GOOD', 'BETTER'),\n",
       "    ('BAD', 'WORSE', 'LONG', 'LONGER'),\n",
       "    ('BAD', 'WORSE', 'SMALL', 'SMALLER'),\n",
       "    ('BIG', 'BIGGER', 'GOOD', 'BETTER'),\n",
       "    ('BIG', 'BIGGER', 'LONG', 'LONGER'),\n",
       "    ('BIG', 'BIGGER', 'SMALL', 'SMALLER'),\n",
       "    ('BIG', 'BIGGER', 'BAD', 'WORSE'),\n",
       "    ('GOOD', 'BETTER', 'LONG', 'LONGER'),\n",
       "    ('GOOD', 'BETTER', 'SMALL', 'SMALLER'),\n",
       "    ('GOOD', 'BETTER', 'BAD', 'WORSE'),\n",
       "    ('GOOD', 'BETTER', 'BIG', 'BIGGER'),\n",
       "    ('LONG', 'LONGER', 'SMALL', 'SMALLER'),\n",
       "    ('LONG', 'LONGER', 'BAD', 'WORSE'),\n",
       "    ('LONG', 'LONGER', 'BIG', 'BIGGER'),\n",
       "    ('LONG', 'LONGER', 'GOOD', 'BETTER'),\n",
       "    ('SMALL', 'SMALLER', 'BAD', 'WORSE'),\n",
       "    ('SMALL', 'SMALLER', 'BIG', 'BIGGER'),\n",
       "    ('SMALL', 'SMALLER', 'GOOD', 'BETTER'),\n",
       "    ('SMALL', 'SMALLER', 'LONG', 'LONGER'),\n",
       "    ('BAD', 'WORST', 'BIG', 'BIGGEST'),\n",
       "    ('BAD', 'WORST', 'GOOD', 'BEST'),\n",
       "    ('BAD', 'WORST', 'HIGH', 'HIGHEST'),\n",
       "    ('BAD', 'WORST', 'LOW', 'LOWEST'),\n",
       "    ('BIG', 'BIGGEST', 'GOOD', 'BEST'),\n",
       "    ('BIG', 'BIGGEST', 'HIGH', 'HIGHEST'),\n",
       "    ('BIG', 'BIGGEST', 'LOW', 'LOWEST'),\n",
       "    ('BIG', 'BIGGEST', 'BAD', 'WORST'),\n",
       "    ('GOOD', 'BEST', 'HIGH', 'HIGHEST'),\n",
       "    ('GOOD', 'BEST', 'LOW', 'LOWEST'),\n",
       "    ('GOOD', 'BEST', 'BAD', 'WORST'),\n",
       "    ('GOOD', 'BEST', 'BIG', 'BIGGEST'),\n",
       "    ('HIGH', 'HIGHEST', 'LOW', 'LOWEST'),\n",
       "    ('HIGH', 'HIGHEST', 'BAD', 'WORST'),\n",
       "    ('HIGH', 'HIGHEST', 'BIG', 'BIGGEST'),\n",
       "    ('HIGH', 'HIGHEST', 'GOOD', 'BEST'),\n",
       "    ('LOW', 'LOWEST', 'BAD', 'WORST'),\n",
       "    ('LOW', 'LOWEST', 'BIG', 'BIGGEST'),\n",
       "    ('LOW', 'LOWEST', 'GOOD', 'BEST'),\n",
       "    ('LOW', 'LOWEST', 'HIGH', 'HIGHEST'),\n",
       "    ('GO', 'GOING', 'INCREASE', 'INCREASING'),\n",
       "    ('GO', 'GOING', 'LOOK', 'LOOKING'),\n",
       "    ('GO', 'GOING', 'READ', 'READING'),\n",
       "    ('GO', 'GOING', 'RUN', 'RUNNING'),\n",
       "    ('INCREASE', 'INCREASING', 'LOOK', 'LOOKING'),\n",
       "    ('INCREASE', 'INCREASING', 'READ', 'READING'),\n",
       "    ('INCREASE', 'INCREASING', 'RUN', 'RUNNING'),\n",
       "    ('INCREASE', 'INCREASING', 'GO', 'GOING'),\n",
       "    ('LOOK', 'LOOKING', 'READ', 'READING'),\n",
       "    ('LOOK', 'LOOKING', 'RUN', 'RUNNING'),\n",
       "    ('LOOK', 'LOOKING', 'GO', 'GOING'),\n",
       "    ('LOOK', 'LOOKING', 'INCREASE', 'INCREASING'),\n",
       "    ('READ', 'READING', 'RUN', 'RUNNING'),\n",
       "    ('READ', 'READING', 'GO', 'GOING'),\n",
       "    ('READ', 'READING', 'INCREASE', 'INCREASING'),\n",
       "    ('READ', 'READING', 'LOOK', 'LOOKING'),\n",
       "    ('RUN', 'RUNNING', 'GO', 'GOING'),\n",
       "    ('RUN', 'RUNNING', 'INCREASE', 'INCREASING'),\n",
       "    ('RUN', 'RUNNING', 'LOOK', 'LOOKING'),\n",
       "    ('RUN', 'RUNNING', 'READ', 'READING'),\n",
       "    ('AUSTRALIA', 'AUSTRALIAN', 'CHINA', 'CHINESE'),\n",
       "    ('AUSTRALIA', 'AUSTRALIAN', 'GERMANY', 'GERMAN'),\n",
       "    ('CHINA', 'CHINESE', 'GERMANY', 'GERMAN'),\n",
       "    ('CHINA', 'CHINESE', 'AUSTRALIA', 'AUSTRALIAN'),\n",
       "    ('GERMANY', 'GERMAN', 'AUSTRALIA', 'AUSTRALIAN'),\n",
       "    ('GERMANY', 'GERMAN', 'CHINA', 'CHINESE'),\n",
       "    ('GOING', 'WENT', 'INCREASING', 'INCREASED'),\n",
       "    ('GOING', 'WENT', 'READING', 'READ'),\n",
       "    ('GOING', 'WENT', 'RUNNING', 'RAN'),\n",
       "    ('GOING', 'WENT', 'TAKING', 'TOOK'),\n",
       "    ('INCREASING', 'INCREASED', 'READING', 'READ'),\n",
       "    ('INCREASING', 'INCREASED', 'RUNNING', 'RAN'),\n",
       "    ('INCREASING', 'INCREASED', 'TAKING', 'TOOK'),\n",
       "    ('INCREASING', 'INCREASED', 'GOING', 'WENT'),\n",
       "    ('READING', 'READ', 'RUNNING', 'RAN'),\n",
       "    ('READING', 'READ', 'TAKING', 'TOOK'),\n",
       "    ('READING', 'READ', 'GOING', 'WENT'),\n",
       "    ('READING', 'READ', 'INCREASING', 'INCREASED'),\n",
       "    ('RUNNING', 'RAN', 'TAKING', 'TOOK'),\n",
       "    ('RUNNING', 'RAN', 'GOING', 'WENT'),\n",
       "    ('RUNNING', 'RAN', 'INCREASING', 'INCREASED'),\n",
       "    ('RUNNING', 'RAN', 'READING', 'READ'),\n",
       "    ('TAKING', 'TOOK', 'GOING', 'WENT'),\n",
       "    ('TAKING', 'TOOK', 'INCREASING', 'INCREASED'),\n",
       "    ('TAKING', 'TOOK', 'READING', 'READ'),\n",
       "    ('TAKING', 'TOOK', 'RUNNING', 'RAN')]}])"
      ]
     },
     "execution_count": 19,
     "metadata": {},
     "output_type": "execute_result"
    }
   ],
   "source": [
    "model.wv.evaluate_word_analogies('questions-words.txt', restrict_vocab=20000, case_insensitive=True)"
   ]
  },
  {
   "cell_type": "code",
   "execution_count": null,
   "metadata": {},
   "outputs": [],
   "source": []
  },
  {
   "cell_type": "code",
   "execution_count": 109,
   "metadata": {},
   "outputs": [],
   "source": [
    "with open(\"output.txt\", \"w\") as txt_file:\n",
    "    for line in alltwt:\n",
    "        txt_file.write(line + \"\\n\")"
   ]
  },
  {
   "cell_type": "code",
   "execution_count": 113,
   "metadata": {},
   "outputs": [],
   "source": [
    "modelfast = FastText(out_arr, size=100, window=5, min_count=5, workers=4,sg=1)"
   ]
  },
  {
   "cell_type": "code",
   "execution_count": 95,
   "metadata": {},
   "outputs": [],
   "source": [
    "#modelfast = fasttext.train_supervised(\"output.txt\", lr=0.1, dim=200, epoch=5, word_ngrams=2, loss='softmax')"
   ]
  },
  {
   "cell_type": "code",
   "execution_count": 116,
   "metadata": {},
   "outputs": [
    {
     "data": {
      "text/plain": [
       "[('issue', 0.9891282320022583),\n",
       " ('within', 0.9747742414474487),\n",
       " ('treasurer', 0.9745684862136841),\n",
       " ('behin', 0.9557595252990723),\n",
       " ('taken', 0.9545921087265015),\n",
       " ('18', 0.953281581401825),\n",
       " ('account', 0.9515901803970337),\n",
       " ('team', 0.9514745473861694),\n",
       " ('credit', 0.9505648612976074),\n",
       " ('email', 0.9492749571800232)]"
      ]
     },
     "execution_count": 116,
     "metadata": {},
     "output_type": "execute_result"
    }
   ],
   "source": [
    "modelfast.wv.most_similar(\"customer\")\n"
   ]
  },
  {
   "cell_type": "code",
   "execution_count": 119,
   "metadata": {},
   "outputs": [
    {
     "data": {
      "text/plain": [
       "[('action', 0.8374758958816528),\n",
       " ('tradition', 0.7824705243110657),\n",
       " ('responsibility', 0.7539868950843811),\n",
       " ('operation', 0.7440914511680603),\n",
       " ('corporation', 0.7398226261138916),\n",
       " ('selection', 0.7368752956390381),\n",
       " ('conversation', 0.7273006439208984),\n",
       " ('reduce', 0.7272038459777832),\n",
       " ('current', 0.7231869697570801),\n",
       " ('remove', 0.7198596000671387)]"
      ]
     },
     "execution_count": 119,
     "metadata": {},
     "output_type": "execute_result"
    }
   ],
   "source": [
    "modelfast.wv.most_similar(\"sanction\")"
   ]
  },
  {
   "cell_type": "code",
   "execution_count": 127,
   "metadata": {},
   "outputs": [
    {
     "name": "stderr",
     "output_type": "stream",
     "text": [
      "/Users/mohitdedhe/anaconda3/lib/python3.7/site-packages/ipykernel_launcher.py:1: DeprecationWarning: Call to deprecated `similarity` (Method will be removed in 4.0.0, use self.wv.similarity() instead).\n",
      "  \"\"\"Entry point for launching an IPython kernel.\n"
     ]
    },
    {
     "data": {
      "text/plain": [
       "0.69624597"
      ]
     },
     "execution_count": 127,
     "metadata": {},
     "output_type": "execute_result"
    }
   ],
   "source": [
    "modelfast.similarity(\"good\",\"bad\")"
   ]
  },
  {
   "cell_type": "markdown",
   "metadata": {},
   "source": [
    "<h1>Topic Modeling LDA</h1>"
   ]
  },
  {
   "cell_type": "code",
   "execution_count": 20,
   "metadata": {},
   "outputs": [],
   "source": [
    "from gensim import corpora\n",
    "dictionary = corpora.Dictionary(out_arr)\n",
    "corpus = [dictionary.doc2bow(text) for text in out_arr]\n",
    "import pickle\n",
    "pickle.dump(corpus, open('corpus.pkl', 'wb'))\n",
    "dictionary.save('dictionary.gensim')"
   ]
  },
  {
   "cell_type": "code",
   "execution_count": 21,
   "metadata": {},
   "outputs": [
    {
     "name": "stdout",
     "output_type": "stream",
     "text": [
      "(0, '0.080*\"rt\" + 0.041*\"proud\" + 0.037*\"series\" + 0.037*\"spotted\" + 0.037*\"127\" + 0.037*\"concert\"')\n",
      "(1, '0.044*\"rt\" + 0.016*\"presented\" + 0.015*\"reserve\" + 0.015*\"force\" + 0.015*\"tip\" + 0.015*\"off\"')\n",
      "(2, '0.080*\"rt\" + 0.054*\"time\" + 0.052*\"presented\" + 0.052*\"100\" + 0.052*\"next\" + 0.051*\"time100next\"')\n",
      "(3, '0.051*\"citi\" + 0.050*\"rt\" + 0.026*\"global\" + 0.025*\"head\" + 0.024*\"sara\" + 0.024*\"hr\"')\n"
     ]
    }
   ],
   "source": [
    "import gensim\n",
    "NUM_TOPICS = 4\n",
    "ldamodel = gensim.models.ldamodel.LdaModel(corpus, num_topics = NUM_TOPICS, id2word=dictionary, passes=15)\n",
    "ldamodel.save('model3.gensim')\n",
    "topics = ldamodel.print_topics(num_words=6)\n",
    "for topic in topics:\n",
    "    print(topic)"
   ]
  },
  {
   "cell_type": "code",
   "execution_count": 22,
   "metadata": {},
   "outputs": [
    {
     "name": "stderr",
     "output_type": "stream",
     "text": [
      "/Users/mohitdedhe/anaconda3/lib/python3.7/site-packages/pyLDAvis/_prepare.py:257: FutureWarning: Sorting because non-concatenation axis is not aligned. A future version\n",
      "of pandas will change to not sort by default.\n",
      "\n",
      "To accept the future behavior, pass 'sort=False'.\n",
      "\n",
      "To retain the current behavior and silence the warning, pass 'sort=True'.\n",
      "\n",
      "  return pd.concat([default_term_info] + list(topic_dfs))\n"
     ]
    },
    {
     "data": {
      "text/html": [
       "\n",
       "<link rel=\"stylesheet\" type=\"text/css\" href=\"https://cdn.rawgit.com/bmabey/pyLDAvis/files/ldavis.v1.0.0.css\">\n",
       "\n",
       "\n",
       "<div id=\"ldavis_el15321123614339926409162928\"></div>\n",
       "<script type=\"text/javascript\">\n",
       "\n",
       "var ldavis_el15321123614339926409162928_data = {\"mdsDat\": {\"x\": [-0.29391745654086426, -0.02337362213172366, 0.2621673799493869, 0.055123698723201005], \"y\": [-0.11741918089443122, 0.02045453187943904, -0.19019416755180146, 0.2871588165667936], \"topics\": [1, 2, 3, 4], \"cluster\": [1, 1, 1, 1], \"Freq\": [23.348731994628906, 20.763980865478516, 25.892513275146484, 29.994770050048828]}, \"tinfo\": {\"Category\": [\"Default\", \"Default\", \"Default\", \"Default\", \"Default\", \"Default\", \"Default\", \"Default\", \"Default\", \"Default\", \"Default\", \"Default\", \"Default\", \"Default\", \"Default\", \"Default\", \"Default\", \"Default\", \"Default\", \"Default\", \"Default\", \"Default\", \"Default\", \"Default\", \"Default\", \"Default\", \"Default\", \"Default\", \"Default\", \"Default\", \"Topic1\", \"Topic1\", \"Topic1\", \"Topic1\", \"Topic1\", \"Topic1\", \"Topic1\", \"Topic1\", \"Topic1\", \"Topic1\", \"Topic1\", \"Topic1\", \"Topic1\", \"Topic1\", \"Topic1\", \"Topic1\", \"Topic1\", \"Topic1\", \"Topic1\", \"Topic1\", \"Topic1\", \"Topic1\", \"Topic1\", \"Topic1\", \"Topic1\", \"Topic1\", \"Topic1\", \"Topic1\", \"Topic1\", \"Topic1\", \"Topic1\", \"Topic1\", \"Topic1\", \"Topic1\", \"Topic1\", \"Topic1\", \"Topic2\", \"Topic2\", \"Topic2\", \"Topic2\", \"Topic2\", \"Topic2\", \"Topic2\", \"Topic2\", \"Topic2\", \"Topic2\", \"Topic2\", \"Topic2\", \"Topic2\", \"Topic2\", \"Topic2\", \"Topic2\", \"Topic2\", \"Topic2\", \"Topic2\", \"Topic2\", \"Topic2\", \"Topic2\", \"Topic2\", \"Topic2\", \"Topic2\", \"Topic2\", \"Topic2\", \"Topic2\", \"Topic2\", \"Topic2\", \"Topic2\", \"Topic2\", \"Topic2\", \"Topic2\", \"Topic2\", \"Topic2\", \"Topic2\", \"Topic2\", \"Topic2\", \"Topic2\", \"Topic3\", \"Topic3\", \"Topic3\", \"Topic3\", \"Topic3\", \"Topic3\", \"Topic3\", \"Topic3\", \"Topic3\", \"Topic3\", \"Topic3\", \"Topic3\", \"Topic3\", \"Topic3\", \"Topic3\", \"Topic3\", \"Topic3\", \"Topic3\", \"Topic3\", \"Topic3\", \"Topic3\", \"Topic3\", \"Topic3\", \"Topic3\", \"Topic3\", \"Topic3\", \"Topic3\", \"Topic3\", \"Topic3\", \"Topic3\", \"Topic3\", \"Topic3\", \"Topic3\", \"Topic3\", \"Topic3\", \"Topic3\", \"Topic3\", \"Topic3\", \"Topic3\", \"Topic4\", \"Topic4\", \"Topic4\", \"Topic4\", \"Topic4\", \"Topic4\", \"Topic4\", \"Topic4\", \"Topic4\", \"Topic4\", \"Topic4\", \"Topic4\", \"Topic4\", \"Topic4\", \"Topic4\", \"Topic4\", \"Topic4\", \"Topic4\", \"Topic4\", \"Topic4\", \"Topic4\", \"Topic4\", \"Topic4\", \"Topic4\", \"Topic4\", \"Topic4\", \"Topic4\", \"Topic4\", \"Topic4\", \"Topic4\", \"Topic4\", \"Topic4\", \"Topic4\", \"Topic4\", \"Topic4\", \"Topic4\", \"Topic4\", \"Topic4\"], \"Freq\": [416.0, 400.0, 397.0, 397.0, 334.0, 333.0, 448.0, 330.0, 328.0, 498.0, 290.0, 256.0, 256.0, 256.0, 270.0, 585.0, 221.0, 213.0, 212.0, 212.0, 209.0, 198.0, 191.0, 189.0, 189.0, 188.0, 188.0, 182.0, 182.0, 182.0, 256.19390869140625, 256.1941223144531, 256.1941223144531, 148.39625549316406, 144.57196044921875, 143.20233154296875, 141.32736206054688, 140.02615356445312, 139.95970153808594, 138.07858276367188, 136.7810516357422, 136.7810516357422, 136.7810516357422, 288.7800598144531, 106.5075912475586, 100.79424285888672, 100.1492919921875, 96.97279357910156, 96.9727783203125, 96.32341003417969, 95.67396545410156, 95.67396545410156, 95.67398834228516, 95.67396545410156, 95.67398834228516, 95.67396545410156, 95.67396545410156, 104.4810791015625, 44.37118911743164, 43.11791229248047, 257.22265625, 156.28875732421875, 178.77239990234375, 558.6466064453125, 101.78984832763672, 96.69261932373047, 95.74989318847656, 95.18505859375, 92.98121643066406, 92.98120880126953, 92.98120880126953, 92.98120880126953, 58.03800964355469, 56.698402404785156, 49.29539489746094, 47.8878288269043, 46.032413482666016, 44.4958381652832, 43.20987319946289, 42.119258880615234, 40.38164138793945, 40.08808517456055, 38.68765640258789, 32.911094665527344, 32.74724578857422, 32.91167068481445, 28.895971298217773, 28.895971298217773, 26.69208335876465, 24.946664810180664, 22.629667282104492, 22.06431770324707, 20.8746395111084, 20.818103790283203, 19.348779678344727, 18.4974422454834, 41.623313903808594, 55.424137115478516, 51.812171936035156, 46.094764709472656, 274.8276062011719, 96.93373107910156, 75.97196197509766, 51.411476135253906, 48.97298812866211, 30.67909049987793, 416.18853759765625, 399.2352600097656, 397.0701904296875, 397.0701904296875, 333.3948669433594, 332.6226806640625, 329.3946228027344, 327.9632873535156, 105.54513549804688, 104.84718322753906, 102.31676483154297, 102.31676483154297, 102.31614685058594, 101.9495849609375, 101.9495849609375, 86.58133697509766, 60.0136604309082, 59.28123474121094, 59.24374771118164, 58.1815071105957, 57.81538772583008, 48.492835998535156, 39.17118835449219, 30.542102813720703, 28.4177303314209, 27.320383071899414, 26.955665588378906, 26.955665588378906, 26.955665588378906, 26.955665588378906, 399.1260681152344, 106.91231536865234, 400.9616394042969, 110.03662872314453, 143.9183807373047, 618.597900390625, 102.14279174804688, 102.30181884765625, 103.04193115234375, 220.88438415527344, 213.18109130859375, 211.97682189941406, 211.97682189941406, 208.88307189941406, 197.76097106933594, 189.299560546875, 188.7992706298828, 190.53433227539062, 187.65696716308594, 187.65663146972656, 182.29888916015625, 182.29888916015625, 182.29888916015625, 162.50892639160156, 158.95828247070312, 79.41606140136719, 77.92619323730469, 77.32421875, 77.32421875, 77.32421875, 77.32421875, 77.32421875, 77.32421875, 71.78245544433594, 70.5168685913086, 70.51232147216797, 43.36228942871094, 36.60476303100586, 34.740413665771484, 210.011962890625, 458.99566650390625, 96.92654418945312, 107.63764190673828, 231.13739013671875, 445.18572998046875, 99.13763427734375, 82.17867279052734], \"Term\": [\"time\", \"100\", \"honoree\", \"time100next\", \"first\", \"spent\", \"next\", \"paycheck\", \"itsaboutt\", \"presented\", \"proud\", \"spotted\", \"127\", \"concert\", \"series\", \"citi\", \"head\", \"sara\", \"hr\", \"wechter\", \"people\", \"advice\", \"share\", \"energy\", \"more\", \"career\", \"looking\", \"important\", \"grow\", \"succeed\", \"concert\", \"spotted\", \"127\", \"foundation\", \"community\", \"military\", \"award\", \"commitment\", \"bring\", \"family\", \"earn\", \"through\", \"them\", \"proud\", \"he\", \"meet\", \"old\", \"refugee\", \"jordan\", \"jood\", \"hair\", \"salon\", \"barber\", \"three\", \"tarek\", \"dad\", \"son\", \"named\", \"1\", \"3\", \"series\", \"support\", \"we\", \"rt\", \"year\", \"set\", \"reserve\", \"force\", \"tip\", \"tournament\", \"air\", \"off\", \"know\", \"partner\", \"final\", \"congratulation\", \"charity\", \"champion\", \"vote\", \"hoftipoff\", \"shortlisted\", \"bracket\", \"someone\", \"springfield\", \"ceo\", \"if\", \"67\", \"80\", \"nais\", \"economy\", \"corbat\", \"mike\", \"leader\", \"responsibility\", \"via\", \"corporate\", \"please\", \"u\", \"2019\", \"work\", \"rt\", \"presented\", \"citi\", \"we\", \"next\", \"day\", \"time\", \"100\", \"honoree\", \"time100next\", \"first\", \"spent\", \"paycheck\", \"itsaboutt\", \"consumer\", \"technology\", \"evolve\", \"betting\", \"episode\", \"transla\", \"listen\", \"banking\", \"put\", \"continue\", \"ad\", \"sure\", \"transitioned\", \"itsabouttime\", \"equal\", \"at\", \"campaign\", \"advance\", \"launched\", \"unless\", \"effort\", \"disability\", \"next\", \"company\", \"presented\", \"a\", \"i\", \"rt\", \"latest\", \"demand\", \"global\", \"head\", \"sara\", \"hr\", \"wechter\", \"people\", \"advice\", \"energy\", \"more\", \"share\", \"career\", \"looking\", \"grow\", \"important\", \"succeed\", \"report\", \"gps\", \"come\", \"path\", \"zero\", \"net\", \"iii\", \"carbon\", \"electrifying\", \"darwinism\", \"find\", \"where\", \"future\", \"on\", \"hear\", \"client\", \"amp\", \"citi\", \"new\", \"the\", \"global\", \"rt\", \"demand\", \"latest\"], \"Total\": [416.0, 400.0, 397.0, 397.0, 334.0, 333.0, 448.0, 330.0, 328.0, 498.0, 290.0, 256.0, 256.0, 256.0, 270.0, 585.0, 221.0, 213.0, 212.0, 212.0, 209.0, 198.0, 191.0, 189.0, 189.0, 188.0, 188.0, 182.0, 182.0, 182.0, 256.863525390625, 256.8637390136719, 256.8637390136719, 149.0740966796875, 145.24432373046875, 143.8784637451172, 141.9971466064453, 140.6977081298828, 140.631591796875, 138.74935913085938, 137.45059204101562, 137.45059204101562, 137.45059204101562, 290.350830078125, 107.18592071533203, 101.47173309326172, 100.82328796386719, 97.64253997802734, 97.64254760742188, 96.99302673339844, 96.3435287475586, 96.3435287475586, 96.34355926513672, 96.34353637695312, 96.34355926513672, 96.34354400634766, 96.34354400634766, 105.28430938720703, 45.05149459838867, 43.815757751464844, 270.4495544433594, 162.75450134277344, 232.86012268066406, 1897.2578125, 117.99610900878906, 100.94002532958984, 96.45654296875, 95.891357421875, 93.6875, 93.6875, 93.6875, 93.6875, 58.782230377197266, 57.4321403503418, 50.00223159790039, 48.59423065185547, 46.74565505981445, 45.202110290527344, 43.918514251708984, 42.82554626464844, 41.091835021972656, 40.79435729980469, 39.395755767822266, 33.617366790771484, 33.45461654663086, 33.62762451171875, 29.602256774902344, 29.602256774902344, 27.398366928100586, 25.654565811157227, 23.335939407348633, 22.77058982849121, 21.582368850708008, 21.524824142456055, 20.059097290039062, 19.205707550048828, 47.990272521972656, 78.40885925292969, 71.90900421142578, 74.58770751953125, 1897.2578125, 498.44293212890625, 585.531982421875, 232.86012268066406, 448.6498107910156, 50.31256103515625, 416.99017333984375, 400.0290832519531, 397.8630065917969, 397.8630065917969, 334.1902770996094, 333.4184265136719, 330.18743896484375, 328.756103515625, 106.34017181396484, 105.6435546875, 103.10956573486328, 103.10956573486328, 103.1098861694336, 102.74235534667969, 102.74235534667969, 87.3992919921875, 60.813560485839844, 60.078609466552734, 60.04085159301758, 58.97586441040039, 58.608219146728516, 49.286354064941406, 39.963985443115234, 31.350725173950195, 29.221586227416992, 28.117053985595703, 27.74843406677246, 27.74843406677246, 27.74843406677246, 27.74843406677246, 448.6498107910156, 117.80886840820312, 498.44293212890625, 136.59019470214844, 229.68133544921875, 1897.2578125, 184.8543243408203, 201.9696044921875, 334.70989990234375, 221.5762939453125, 213.87136840820312, 212.6670684814453, 212.6670684814453, 209.59320068359375, 198.461181640625, 189.99038696289062, 189.4899139404297, 191.2339630126953, 188.34718322753906, 188.3470458984375, 182.98910522460938, 182.98910522460938, 182.98910522460938, 163.20057678222656, 159.64906311035156, 80.11589050292969, 78.61652374267578, 78.01444244384766, 78.01444244384766, 78.01444244384766, 78.01444244384766, 78.01444244384766, 78.01444244384766, 72.47270965576172, 71.20713806152344, 71.2065200805664, 44.16283416748047, 37.31448745727539, 35.44527053833008, 233.91455078125, 585.531982421875, 108.26399230957031, 123.95262908935547, 334.70989990234375, 1897.2578125, 201.9696044921875, 184.8543243408203], \"loglift\": [30.0, 29.0, 28.0, 27.0, 26.0, 25.0, 24.0, 23.0, 22.0, 21.0, 20.0, 19.0, 18.0, 17.0, 16.0, 15.0, 14.0, 13.0, 12.0, 11.0, 10.0, 9.0, 8.0, 7.0, 6.0, 5.0, 4.0, 3.0, 2.0, 1.0, 1.4520000219345093, 1.4520000219345093, 1.4520000219345093, 1.4500999450683594, 1.4500000476837158, 1.4499000310897827, 1.4499000310897827, 1.4498000144958496, 1.4498000144958496, 1.4498000144958496, 1.4496999979019165, 1.4496999979019165, 1.4496999979019165, 1.4492000341415405, 1.4483000040054321, 1.4479000568389893, 1.4479000568389893, 1.447700023651123, 1.447700023651123, 1.447700023651123, 1.447700023651123, 1.447700023651123, 1.447700023651123, 1.447700023651123, 1.447700023651123, 1.447700023651123, 1.447700023651123, 1.4470000267028809, 1.4393999576568604, 1.438599944114685, 1.4045000076293945, 1.4141000509262085, 1.1902999877929688, 0.23199999332427979, 1.3069000244140625, 1.4115999937057495, 1.5645999908447266, 1.5645999908447266, 1.5643999576568604, 1.5643999576568604, 1.5643999576568604, 1.5643999576568604, 1.5592000484466553, 1.5591000318527222, 1.5577000379562378, 1.5572999715805054, 1.5565999746322632, 1.5562000274658203, 1.5556999444961548, 1.555299997329712, 1.5544999837875366, 1.5544999837875366, 1.5537999868392944, 1.5506999492645264, 1.5506000518798828, 1.5504000186920166, 1.5477999448776245, 1.5477999448776245, 1.545799970626831, 1.5440000295639038, 1.541200041770935, 1.5404000282287598, 1.538599967956543, 1.538599967956543, 1.5358999967575073, 1.5343999862670898, 1.4296000003814697, 1.225000023841858, 1.2441999912261963, 1.0907000303268433, -0.36010000109672546, -0.06549999862909317, -0.4702000021934509, 0.061400000005960464, -0.6430000066757202, 1.077299952507019, 1.3493000268936157, 1.3492000102996826, 1.3492000102996826, 1.3492000102996826, 1.3487999439239502, 1.3487999439239502, 1.3487999439239502, 1.3487999439239502, 1.3437000513076782, 1.3436000347137451, 1.343500018119812, 1.343500018119812, 1.343500018119812, 1.343500018119812, 1.343500018119812, 1.3417999744415283, 1.3380000591278076, 1.3379000425338745, 1.3379000425338745, 1.3377000093460083, 1.3375999927520752, 1.3350000381469727, 1.3312000036239624, 1.3250999450683594, 1.3233000040054321, 1.3224999904632568, 1.3221999406814575, 1.3221999406814575, 1.3221999406814575, 1.3221999406814575, 1.2343000173568726, 1.2541999816894531, 1.1335999965667725, 1.1349999904632568, 0.8838000297546387, 0.2304999977350235, 0.7580000162124634, 0.6710000038146973, 0.17309999465942383, 1.2009999752044678, 1.2008999586105347, 1.2008999586105347, 1.2008999586105347, 1.2007999420166016, 1.200600028038025, 1.2005000114440918, 1.2005000114440918, 1.2005000114440918, 1.2005000114440918, 1.2005000114440918, 1.2003999948501587, 1.2003999948501587, 1.2003999948501587, 1.1999000310897827, 1.1998000144958496, 1.1953999996185303, 1.1952999830245972, 1.1952999830245972, 1.1952999830245972, 1.1952999830245972, 1.1952999830245972, 1.1952999830245972, 1.1952999830245972, 1.194599986076355, 1.1943999528884888, 1.1943999528884888, 1.1858999729156494, 1.1849000453948975, 1.1841000318527222, 1.0964000225067139, 0.9606999754905701, 1.093500018119812, 1.062999963760376, 0.833899974822998, -0.24549999833106995, 0.4925000071525574, 0.3935000002384186], \"logprob\": [30.0, 29.0, 28.0, 27.0, 26.0, 25.0, 24.0, 23.0, 22.0, 21.0, 20.0, 19.0, 18.0, 17.0, 16.0, 15.0, 14.0, 13.0, 12.0, 11.0, 10.0, 9.0, 8.0, 7.0, 6.0, 5.0, 4.0, 3.0, 2.0, 1.0, -3.303800106048584, -3.303800106048584, -3.303800106048584, -3.8498001098632812, -3.8759000301361084, -3.885499954223633, -3.8986001014709473, -3.907900094985962, -3.908400058746338, -3.9219000339508057, -3.931299924850464, -3.931299924850464, -3.931299924850464, -3.184000015258789, -4.18149995803833, -4.236599922180176, -4.243000030517578, -4.275300025939941, -4.275300025939941, -4.2820000648498535, -4.28879976272583, -4.28879976272583, -4.28879976272583, -4.28879976272583, -4.28879976272583, -4.28879976272583, -4.28879976272583, -4.200699806213379, -5.05709981918335, -5.0858001708984375, -3.299799919128418, -3.7980000972747803, -3.663599967956543, -2.524199962615967, -4.226799964904785, -4.278200149536133, -4.170599937438965, -4.176599979400635, -4.199999809265137, -4.199999809265137, -4.199999809265137, -4.199999809265137, -4.671299934387207, -4.6946001052856445, -4.83459997177124, -4.863500118255615, -4.9029998779296875, -4.936999797821045, -4.966300010681152, -4.9918999671936035, -5.033999919891357, -5.041299819946289, -5.076900005340576, -5.23859977722168, -5.243599891662598, -5.23859977722168, -5.36870002746582, -5.36870002746582, -5.447999954223633, -5.515600204467773, -5.613100051879883, -5.638400077819824, -5.693900108337402, -5.696599960327148, -5.769800186157227, -5.814799785614014, -5.003699779510498, -4.717400074005127, -4.784800052642822, -4.901700019836426, -3.1161999702453613, -4.158400058746338, -4.4019999504089355, -4.792500019073486, -4.841100215911865, -5.308800220489502, -2.921999931335449, -2.963599920272827, -2.9690001010894775, -2.9690001010894775, -3.1438000202178955, -3.1461000442504883, -3.155900001525879, -3.1602001190185547, -4.294000148773193, -4.300600051879883, -4.324999809265137, -4.324999809265137, -4.325099945068359, -4.32859992980957, -4.32859992980957, -4.492000102996826, -4.85860013961792, -4.870800018310547, -4.871500015258789, -4.889599800109863, -4.895899772644043, -5.071700096130371, -5.285200119018555, -5.533999919891357, -5.606100082397461, -5.645500183105469, -5.658899784088135, -5.658899784088135, -5.658899784088135, -5.658899784088135, -2.9637999534606934, -4.281099796295166, -2.9593000411987305, -4.252299785614014, -3.9839000701904297, -2.525700092315674, -4.3267998695373535, -4.325200080871582, -4.317999839782715, -3.7026000022888184, -3.73799991607666, -3.7437000274658203, -3.7437000274658203, -3.7583999633789062, -3.8131000995635986, -3.8568999767303467, -3.859499931335449, -3.850399971008301, -3.865600109100342, -3.865600109100342, -3.8945000171661377, -3.8945000171661377, -3.8945000171661377, -4.009500026702881, -4.031599998474121, -4.725500106811523, -4.7444000244140625, -4.752200126647949, -4.752200126647949, -4.752200126647949, -4.752200126647949, -4.752200126647949, -4.752200126647949, -4.826600074768066, -4.844299793243408, -4.844399929046631, -5.330599784851074, -5.5, -5.552299976348877, -3.753000020980835, -2.9711999893188477, -4.526199817657471, -4.42140007019043, -3.6572000980377197, -3.001699924468994, -4.503699779510498, -4.691299915313721]}, \"token.table\": {\"Topic\": [1, 3, 1, 1, 2, 1, 2, 2, 2, 3, 3, 3, 4, 2, 2, 4, 3, 1, 3, 1, 3, 2, 1, 3, 4, 4, 2, 2, 2, 2, 3, 4, 4, 4, 1, 1, 2, 3, 1, 2, 3, 3, 2, 2, 1, 4, 1, 2, 3, 4, 3, 1, 2, 3, 4, 4, 3, 3, 3, 1, 2, 4, 3, 2, 1, 4, 3, 4, 4, 4, 1, 1, 4, 4, 2, 3, 4, 2, 3, 4, 2, 4, 4, 3, 3, 1, 1, 2, 3, 4, 3, 2, 3, 4, 1, 2, 1, 4, 2, 1, 4, 2, 4, 2, 3, 2, 1, 4, 2, 4, 3, 4, 2, 4, 2, 3, 1, 2, 3, 3, 1, 4, 2, 2, 1, 2, 3, 4, 1, 4, 1, 2, 1, 2, 4, 2, 2, 1, 3, 1, 2, 4, 1, 2, 3, 1, 3, 2, 4, 1, 1, 1, 3, 3, 2, 2, 3, 3, 2, 3, 3, 2, 2, 1, 2, 3, 4, 4, 2, 3, 1, 2, 4], \"Freq\": [0.9766601324081421, 0.9974274635314941, 0.9966373443603516, 0.2781292796134949, 0.7231361269950867, 0.9813820719718933, 0.9796550273895264, 0.9796550273895264, 0.19035041332244873, 0.8053286671638489, 0.9826642870903015, 0.9602712988853455, 0.9976761937141418, 0.9926617741584778, 0.09832650423049927, 0.897763729095459, 0.9888128638267517, 0.9929776787757874, 0.9954314231872559, 0.9964340329170227, 0.989238977432251, 0.9805277585983276, 0.9955089092254639, 0.9581957459449768, 0.9869967103004456, 0.9981566667556763, 0.9864109754562378, 0.9734058976173401, 0.9840486645698547, 0.12979649007320404, 0.08539243042469025, 0.7839025259017944, 0.9874377846717834, 0.9860715270042419, 0.9950410723686218, 0.9983178377151489, 0.08488325029611588, 0.9082508087158203, 0.9966381788253784, 0.9877715706825256, 0.9968010783195496, 0.9820467233657837, 0.9856042265892029, 0.9372214078903198, 0.9964341521263123, 0.9869967103004456, 0.3776392936706543, 0.6161482930183411, 0.5050264596939087, 0.49017277359962463, 0.9730278849601746, 0.9967218041419983, 0.9744853973388672, 0.9730278849601746, 0.9869967103004456, 0.9947871565818787, 0.9892358779907227, 0.9758786559104919, 0.989238977432251, 0.9945991635322571, 0.9799562692642212, 0.9934774041175842, 0.9964383244514465, 0.9907045364379883, 0.9927948713302612, 0.9970996975898743, 0.30772918462753296, 0.6901499032974243, 0.9959344267845154, 0.9945947527885437, 0.9964343309402466, 0.9982654452323914, 0.997399091720581, 0.9915719628334045, 0.9807230234146118, 0.997830867767334, 0.9968633055686951, 0.07836945354938507, 0.6269556283950806, 0.29170849919319153, 0.9813360571861267, 0.9869967103004456, 0.9945947527885437, 0.9977000951766968, 0.9739003777503967, 0.9897618889808655, 0.9934194087982178, 0.9866927266120911, 0.5517858266830444, 0.44359254837036133, 0.9730278849601746, 0.9730164408683777, 0.9927746057510376, 0.9981574416160583, 0.9953510761260986, 0.9661585688591003, 0.9938943982124329, 0.9974145889282227, 0.9854602217674255, 0.9878014922142029, 0.9869967103004456, 0.10160349309444427, 0.8959580659866333, 0.1092165857553482, 0.889335036277771, 0.9926617741584778, 0.9918343424797058, 0.9736694097518921, 0.9924756288528442, 0.9921578168869019, 0.9964037537574768, 0.9971697330474854, 0.8751773834228516, 0.12502533197402954, 0.19460603594779968, 0.8045053482055664, 0.9953476190567017, 0.003444109344854951, 0.003444109344854951, 0.9866220355033875, 0.9934194684028625, 0.9987709522247314, 0.995266854763031, 0.9756177067756653, 0.2946357727050781, 0.14494603872299194, 0.32626035809516907, 0.23454904556274414, 0.9964343309402466, 0.9959257245063782, 0.9502696394920349, 0.04806811362504959, 0.9609666466712952, 0.03962749242782593, 0.9987765550613403, 0.9734293818473816, 0.9899543523788452, 0.9964341521263123, 0.9987450242042542, 0.9966373443603516, 0.9816354513168335, 0.9945947527885437, 0.9584988355636597, 0.03686533868312836, 0.9834531545639038, 0.9964340329170227, 0.9939082264900208, 0.1290815770626068, 0.8713005781173706, 0.9967218041419983, 0.9964342713356018, 0.9967218041419983, 0.9976254105567932, 0.997830867767334, 0.9926617741584778, 0.9926617741584778, 0.9896222949028015, 0.9927746057510376, 0.7014513611793518, 0.2805805504322052, 0.9730278849601746, 0.947201132774353, 0.9790859222412109, 0.7687017917633057, 0.21901559829711914, 0.008588846772909164, 0.9968633055686951, 0.9970910549163818, 0.6167235970497131, 0.3753969669342041, 0.8644352555274963, 0.13559769093990326, 0.9869967103004456], \"Term\": [\"1\", \"100\", \"127\", \"2019\", \"2019\", \"3\", \"67\", \"80\", \"a\", \"a\", \"ad\", \"advance\", \"advice\", \"air\", \"amp\", \"amp\", \"at\", \"award\", \"banking\", \"barber\", \"betting\", \"bracket\", \"bring\", \"campaign\", \"carbon\", \"career\", \"ceo\", \"champion\", \"charity\", \"citi\", \"citi\", \"citi\", \"client\", \"come\", \"commitment\", \"community\", \"company\", \"company\", \"concert\", \"congratulation\", \"consumer\", \"continue\", \"corbat\", \"corporate\", \"dad\", \"darwinism\", \"day\", \"day\", \"demand\", \"demand\", \"disability\", \"earn\", \"economy\", \"effort\", \"electrifying\", \"energy\", \"episode\", \"equal\", \"evolve\", \"family\", \"final\", \"find\", \"first\", \"force\", \"foundation\", \"future\", \"global\", \"global\", \"gps\", \"grow\", \"hair\", \"he\", \"head\", \"hear\", \"hoftipoff\", \"honoree\", \"hr\", \"i\", \"i\", \"i\", \"if\", \"iii\", \"important\", \"itsaboutt\", \"itsabouttime\", \"jood\", \"jordan\", \"know\", \"latest\", \"latest\", \"launched\", \"leader\", \"listen\", \"looking\", \"meet\", \"mike\", \"military\", \"more\", \"nais\", \"named\", \"net\", \"new\", \"new\", \"next\", \"next\", \"off\", \"old\", \"on\", \"partner\", \"path\", \"paycheck\", \"people\", \"please\", \"please\", \"presented\", \"presented\", \"proud\", \"proud\", \"proud\", \"put\", \"refugee\", \"report\", \"reserve\", \"responsibility\", \"rt\", \"rt\", \"rt\", \"rt\", \"salon\", \"sara\", \"series\", \"series\", \"set\", \"set\", \"share\", \"shortlisted\", \"someone\", \"son\", \"spent\", \"spotted\", \"springfield\", \"succeed\", \"support\", \"support\", \"sure\", \"tarek\", \"technology\", \"the\", \"the\", \"them\", \"three\", \"through\", \"time\", \"time100next\", \"tip\", \"tournament\", \"transitioned\", \"transla\", \"u\", \"u\", \"unless\", \"via\", \"vote\", \"we\", \"we\", \"we\", \"wechter\", \"where\", \"work\", \"work\", \"year\", \"year\", \"zero\"]}, \"R\": 30, \"lambda.step\": 0.01, \"plot.opts\": {\"xlab\": \"PC1\", \"ylab\": \"PC2\"}, \"topic.order\": [1, 2, 3, 4]};\n",
       "\n",
       "function LDAvis_load_lib(url, callback){\n",
       "  var s = document.createElement('script');\n",
       "  s.src = url;\n",
       "  s.async = true;\n",
       "  s.onreadystatechange = s.onload = callback;\n",
       "  s.onerror = function(){console.warn(\"failed to load library \" + url);};\n",
       "  document.getElementsByTagName(\"head\")[0].appendChild(s);\n",
       "}\n",
       "\n",
       "if(typeof(LDAvis) !== \"undefined\"){\n",
       "   // already loaded: just create the visualization\n",
       "   !function(LDAvis){\n",
       "       new LDAvis(\"#\" + \"ldavis_el15321123614339926409162928\", ldavis_el15321123614339926409162928_data);\n",
       "   }(LDAvis);\n",
       "}else if(typeof define === \"function\" && define.amd){\n",
       "   // require.js is available: use it to load d3/LDAvis\n",
       "   require.config({paths: {d3: \"https://cdnjs.cloudflare.com/ajax/libs/d3/3.5.5/d3.min\"}});\n",
       "   require([\"d3\"], function(d3){\n",
       "      window.d3 = d3;\n",
       "      LDAvis_load_lib(\"https://cdn.rawgit.com/bmabey/pyLDAvis/files/ldavis.v1.0.0.js\", function(){\n",
       "        new LDAvis(\"#\" + \"ldavis_el15321123614339926409162928\", ldavis_el15321123614339926409162928_data);\n",
       "      });\n",
       "    });\n",
       "}else{\n",
       "    // require.js not available: dynamically load d3 & LDAvis\n",
       "    LDAvis_load_lib(\"https://cdnjs.cloudflare.com/ajax/libs/d3/3.5.5/d3.min.js\", function(){\n",
       "         LDAvis_load_lib(\"https://cdn.rawgit.com/bmabey/pyLDAvis/files/ldavis.v1.0.0.js\", function(){\n",
       "                 new LDAvis(\"#\" + \"ldavis_el15321123614339926409162928\", ldavis_el15321123614339926409162928_data);\n",
       "            })\n",
       "         });\n",
       "}\n",
       "</script>"
      ],
      "text/plain": [
       "<IPython.core.display.HTML object>"
      ]
     },
     "execution_count": 22,
     "metadata": {},
     "output_type": "execute_result"
    }
   ],
   "source": [
    "dictionary = gensim.corpora.Dictionary.load('dictionary.gensim')\n",
    "corpus = pickle.load(open('corpus.pkl', 'rb'))\n",
    "lda = gensim.models.ldamodel.LdaModel.load('model3.gensim')\n",
    "import pyLDAvis.gensim\n",
    "lda_display = pyLDAvis.gensim.prepare(lda, corpus, dictionary, sort_topics=False)\n",
    "pyLDAvis.display(lda_display)\n"
   ]
  },
  {
   "cell_type": "markdown",
   "metadata": {},
   "source": [
    "<h4>TFIDF</h4>"
   ]
  },
  {
   "cell_type": "code",
   "execution_count": 23,
   "metadata": {},
   "outputs": [],
   "source": [
    "from sklearn.feature_extraction.text import TfidfVectorizer"
   ]
  },
  {
   "cell_type": "code",
   "execution_count": 24,
   "metadata": {},
   "outputs": [],
   "source": [
    "vectorizer = TfidfVectorizer()\n",
    "vectors = vectorizer.fit_transform(alltwt)\n",
    "feature_names = vectorizer.get_feature_names()\n",
    "dense = vectors.todense()\n",
    "denselist = dense.tolist()\n",
    "df = pd.DataFrame(denselist, columns=feature_names)"
   ]
  },
  {
   "cell_type": "code",
   "execution_count": 25,
   "metadata": {},
   "outputs": [],
   "source": [
    "df.to_csv('tfidf.csv')"
   ]
  },
  {
   "cell_type": "code",
   "execution_count": null,
   "metadata": {},
   "outputs": [],
   "source": []
  }
 ],
 "metadata": {
  "kernelspec": {
   "display_name": "Python 3",
   "language": "python",
   "name": "python3"
  },
  "language_info": {
   "codemirror_mode": {
    "name": "ipython",
    "version": 3
   },
   "file_extension": ".py",
   "mimetype": "text/x-python",
   "name": "python",
   "nbconvert_exporter": "python",
   "pygments_lexer": "ipython3",
   "version": "3.7.1"
  }
 },
 "nbformat": 4,
 "nbformat_minor": 2
}
